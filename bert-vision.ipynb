{
 "cells": [
  {
   "cell_type": "markdown",
   "metadata": {
    "id": "qfj6qUCzeQfA"
   },
   "source": [
    "## Initialization"
   ]
  },
  {
   "cell_type": "code",
   "execution_count": 1,
   "metadata": {
    "collapsed": true,
    "id": "TMUnskJ9eQfB"
   },
   "outputs": [],
   "source": [
    "storageName = 'university'\n",
    "\n",
    "if storageName == 'paperspace': \n",
    "    guy_folder = \"/notebooks/\"\n",
    "elif storageName == 'colab':\n",
    "    guy_folder = \"/content/\"\n",
    "elif storageName == 'university':\n",
    "    guy_folder = '/vol/scratch/guy/'\n",
    "    \n",
    "    \n",
    "cache_dir = guy_folder+\"/cache/transformer_cache\""
   ]
  },
  {
   "cell_type": "code",
   "execution_count": null,
   "metadata": {
    "collapsed": true,
    "id": "v3z5yhLLlzFk"
   },
   "outputs": [],
   "source": [
    "%pip uninstall -y enum34"
   ]
  },
  {
   "cell_type": "code",
   "execution_count": 2,
   "metadata": {
    "colab": {
     "base_uri": "https://localhost:8080/",
     "height": 33
    },
    "collapsed": false,
    "id": "NqAi8nT2eQfG",
    "outputId": "d037e9cb-428a-49d6-db5e-624ebda582d8"
   },
   "outputs": [
    {
     "name": "stdout",
     "output_type": "stream",
     "text": [
      "/specific/scratches/scratch/guy\n",
      "mkdir: cannot create directory 'cache': File exists\n",
      "mkdir: cannot create directory 'cache/transformer_cache': File exists\n"
     ]
    }
   ],
   "source": [
    "# %pip install matplotlib seaborn pandas tqdm tensorboard\n",
    "\n",
    "%cd {guy_folder}\n",
    "!mkdir cache\n",
    "!mkdir cache/transformer_cache\n",
    "# %pip install --no-cache-dir --upgrade torch torchvision\n",
    "#==1.4.0+cu100 torchvision== -f https://download.pytorch.org/whl/torch_stable.html\n"
   ]
  },
  {
   "cell_type": "code",
   "execution_count": null,
   "metadata": {
    "collapsed": true,
    "id": "htC1bYBQfkz6",
    "jupyter": {
     "outputs_hidden": true
    }
   },
   "outputs": [],
   "source": [
    "%pip install wandb\n",
    "%cd {guy_folder}/cache/\n",
    "!git clone https://github.com/huggingface/transformers.git\n",
    "%pip install ./transformers\n",
    "%pip install -U nlp\n",
    "\n",
    "%cd {guy_folder}\n",
    "\n",
    "## Not working!!!\n",
    "!setenv TRANSFORMERS_CACHE /vol/scratch/guy/cache/transformer_cache\n",
    "!setenv CUDA_VISIBLE_DEVICES 0"
   ]
  },
  {
   "cell_type": "markdown",
   "metadata": {
    "id": "_KPmqdmNj6dN"
   },
   "source": [
    "### Imports"
   ]
  },
  {
   "cell_type": "code",
   "execution_count": 2,
   "metadata": {
    "collapsed": false,
    "id": "XhRzzS1eeQfZ"
   },
   "outputs": [],
   "source": [
    "import numpy as np\n",
    "import pandas as pd\n",
    "from tqdm import tqdm\n",
    "import torch\n",
    "from torch import nn\n",
    "from torch.utils.data import DataLoader\n",
    "import torch.nn.functional as F\n",
    "from torchvision.datasets import ImageNet, ImageFolder, CIFAR10, CIFAR100\n",
    "from torchvision import transforms\n",
    "from torchvision.models import resnet101\n",
    "from transformers import AutoModel, AutoTokenizer\n",
    "from transformers import AdamW\n",
    "import wandb"
   ]
  },
  {
   "cell_type": "markdown",
   "metadata": {
    "id": "Wks3jN_niRZ7"
   },
   "source": [
    "# Sweep"
   ]
  },
  {
   "cell_type": "code",
   "execution_count": null,
   "metadata": {
    "collapsed": true,
    "id": "a5RPTY5Ww0Fq"
   },
   "outputs": [],
   "source": [
    "from getpass import getpass\n",
    "!wandb login {getpass()}"
   ]
  },
  {
   "cell_type": "code",
   "execution_count": 7,
   "metadata": {
    "colab": {
     "base_uri": "https://localhost:8080/",
     "height": 33
    },
    "collapsed": false,
    "id": "Mo6pVi-alzI9",
    "outputId": "787f36eb-08f2-49da-9722-8d605d2ea437"
   },
   "outputs": [
    {
     "name": "stdout",
     "output_type": "stream",
     "text": [
      "Overwriting bert-vision.py\n"
     ]
    }
   ],
   "source": [
    "%%writefile bert-vision.py\n",
    "\n",
    "storageName = 'colab'\n",
    "\n",
    "if storageName == 'paperspace': \n",
    "    guy_folder = \"/notebooks/\"\n",
    "elif storageName == 'colab':\n",
    "    guy_folder = \"/content/\"\n",
    "elif storageName == 'university':\n",
    "    guy_folder = '/vol/scratch/guy/'\n",
    "\n",
    "    \n",
    "cache_dir = guy_folder + \"/cache/transformer_cache\"\n",
    "\n",
    "\n",
    "\n",
    "import numpy as np\n",
    "import pandas as pd\n",
    "from tqdm import tqdm\n",
    "import torch\n",
    "from torch import nn\n",
    "from torch.utils.data import DataLoader\n",
    "import torch.nn.functional as F\n",
    "from torchvision.datasets import ImageNet, ImageFolder, CIFAR10, CIFAR100\n",
    "from torchvision import transforms\n",
    "from torchvision.models import resnet101, resnet50\n",
    "from transformers import AutoModel, AutoTokenizer, AutoConfig\n",
    "from transformers import AdamW\n",
    "import wandb\n",
    "import os.path\n",
    "\n",
    "assert(os.path.isdir(cache_dir))\n",
    "\n",
    "\n",
    "class DummyLayer(nn.Module):\n",
    "  def __init__(self, *args, **kwargs):\n",
    "    super().__init__()\n",
    "    pass\n",
    "  def forward(self, x, *args, **kwargs):\n",
    "    return x\n",
    "\n",
    "class PlainBERT(nn.Module):\n",
    "    def __init__(self, n_tokens, min_layer = None, pretrained = True):\n",
    "        super().__init__()\n",
    "        self.nLayers = 6\n",
    "        self.nHeads = 12\n",
    "        self.seqLen = 512\n",
    "\n",
    "        modelName = 'distilbert-base-uncased'\n",
    "        if pretrained:\n",
    "          bert = AutoModel.from_pretrained(modelName, cache_dir = cache_dir)\n",
    "        else:\n",
    "          bertConfig = AutoConfig.from_pretrained(modelName, cache_dir = cache_dir)\n",
    "          bert = AutoModel.from_config(bertConfig)\n",
    "\n",
    "        self.position_embeddings = nn.Parameter(\n",
    "            torch.Tensor(bert.embeddings.position_embeddings(torch.arange(self.seqLen)).detach().numpy()))\n",
    "        if min_layer is None:\n",
    "          self.bert = bert.transformer\n",
    "        else:\n",
    "          raise NotImplementedError\n",
    "          bert_ = bert.transformer\n",
    "          for n, m in bert_.layer.named_children():\n",
    "            if int(n) < min_layer:\n",
    "              setattr(bert_.layer, n, DummyLayer())\n",
    "        \n",
    "          self.bert = bert_\n",
    "\n",
    "    def forward(self, x):\n",
    "        return self.bert.forward(x + self.position_embeddings, attn_mask = torch.ones(x.size(0), 512).to(x.device),\n",
    "                                head_mask = torch.ones(self.nLayers, x.size(0), \n",
    "                                                       self.nHeads, self.seqLen, self.seqLen).to(x.device))\n",
    "\n",
    "class BertVision(nn.Module):\n",
    "    def __init__(self,  n_classes, img_dim, pretrained = True,\n",
    "                 freeze = False):\n",
    "        super().__init__()\n",
    "        self.with_classifier = True\n",
    "        self.n_tokens = np.prod(img_dim)\n",
    "        self.top = nn.Sequential(\n",
    "                                 nn.Conv2d(3, 32, 3, padding = 1 ),\n",
    "                                 nn.LeakyReLU(0.2),\n",
    "                                 nn.Conv2d(32, 100, 3, padding = 1),\n",
    "                                 nn.LeakyReLU(0.2),\n",
    "                                 nn.Conv2d(100, 200, 3, padding = 1),\n",
    "                                 nn.LeakyReLU(0.2),\n",
    "                                 nn.Conv2d(200, 768, 3, stride = (1, 2), padding = 1),\n",
    "                                 nn.LeakyReLU(0.2)\n",
    "                                )\n",
    "        \n",
    "        self.top.apply(self._init_top)\n",
    "        self.bert = PlainBERT(n_tokens = self.n_tokens, pretrained = pretrained)\n",
    "        self.fc = nn.Linear(768 * self.n_tokens//2, n_classes)\n",
    "        self.layer_norm = nn.LayerNorm((512,))\n",
    "        if freeze: \n",
    "          self.bert.requires_grad_(False)\n",
    "\n",
    "    def toggleIntermediate(self):\n",
    "        self.with_classifier = not self.with_classifier\n",
    "    \n",
    "    \n",
    "    def _init_top(self, m):\n",
    "        if isinstance(m, (nn.Conv2d, nn.Linear)):\n",
    "            nn.init.kaiming_uniform_(m.weight)\n",
    "            m.bias.data.fill_(0.01)\n",
    "        pass\n",
    "    def forward(self, x):\n",
    "        x = self.top(x)\n",
    "        x = x.view(x.size(0), x.size(1), -1)\n",
    "        x = x.transpose(1,2)\n",
    "        x = self.bert(x)\n",
    "        x = torch.stack(x).squeeze(0)\n",
    "        x = x.transpose(1,2).contiguous()\n",
    "#         x = self.layer_norm(x)\n",
    "#         x = torch.mean(x, dim = (-2,))\n",
    "        x = x.view(x.size(0), -1)\n",
    "        if self.with_classifier:\n",
    "            x = self.fc(x)\n",
    "        return x.squeeze(1)\n",
    "    \n",
    "    \n",
    "    \n",
    "device = 'cuda'\n",
    "train_ds = CIFAR100(\"{}/data/cifar100\".format(guy_folder), download = True, transform=transforms.ToTensor())\n",
    "test_ds = CIFAR100(\"{}/data/cifar100\".format(guy_folder), download = True, transform=transforms.ToTensor(), train = False)\n",
    "\n",
    "\n",
    "batch_size = 8\n",
    "\n",
    "lr = {'bert-vision': [1e-6, 5e-6, 1e-5, 5e-5],\n",
    "      'resnet': [3e-4, 1e-3, 3e-3, 1e-2]\n",
    "      }\n",
    "\n",
    "optimizerDict = {'adam': torch.optim.Adam,\n",
    "                 'adamw': AdamW,\n",
    "                 'sgd': torch.optim.SGD, # No momentum\n",
    "                 }\n",
    "\n",
    "def makeModel(modelName, pretrained, freeze):\n",
    "  if modelName == 'resnet':\n",
    "    model_resnet = resnet50(pretrained = pretrained)\n",
    "    if freeze:\n",
    "      model_resnet.requires_grad_(False)\n",
    "    model_resnet.fc = nn.Linear(model_resnet.fc.in_features, 100)\n",
    "    model_resnet.to(device)\n",
    "    model = model_resnet\n",
    "  elif modelName == 'bert-vision':\n",
    "    model = BertVision(len(train_ds.classes), (32,32), pretrained = pretrained,\n",
    "                       freeze = freeze).to(device)\n",
    "  else:\n",
    "    model = Sequential()\n",
    "  return model\n",
    "\n",
    "def _convertBool(s):\n",
    "  s = s.lower()\n",
    "  assert(s in ['true', 'false'])\n",
    "  return s == 'true'\n",
    "\n",
    "\n",
    "def train(config):\n",
    "  \n",
    "  optimizerAlg = optimizerDict[config.optimizer]\n",
    "  if config.model == 'bert-vision': \n",
    "    if config.optimizer == 'adam':\n",
    "      optimizerAlg = optimizerDict['adamw']\n",
    "    if config.optimizer == 'sgd':\n",
    "      return\n",
    "    \n",
    "\n",
    "  modelName = config.model\n",
    "  lr_idx = config.lr_idx\n",
    "  pretrained = _convertBool(config.pretrained)\n",
    "  freeze = _convertBool(config.freeze)\n",
    "  model = makeModel(modelName, pretrained = pretrained, freeze = freeze)\n",
    "\n",
    "\n",
    "  criterion = nn.CrossEntropyLoss()\n",
    "  optimizer = optimizerAlg(model.parameters(), lr = lr[modelName][lr_idx])\n",
    "  train_dataloader = DataLoader(train_ds, batch_size = batch_size, shuffle = True)\n",
    "  test_dataloader = DataLoader(test_ds, batch_size = batch_size, shuffle = True)\n",
    "  pbar = tqdm(train_dataloader, leave = True, position = 0)\n",
    "  acc_sum = 0\n",
    "\n",
    "  for i, (x,y) in enumerate(pbar):\n",
    "      model.train()    \n",
    "      optimizer.zero_grad()\n",
    "      y = y.to(device)\n",
    "      yhat = model(x.to(device))\n",
    "      loss = criterion(yhat, y)\n",
    "      acc_sum += (yhat.argmax(dim =  -1) == y).sum()    \n",
    "      wandb.log({'loss': loss.item(), \n",
    "                 'acc': acc_sum.item() / (batch_size * (i+1))})\n",
    "\n",
    "      loss.backward()\n",
    "      optimizer.step()\n",
    "\n",
    "wandb.init(project = 'bert-vision')\n",
    "\n",
    "from argparse import ArgumentParser\n",
    "parser = ArgumentParser()\n",
    "parser.add_argument('--lr_idx', type=int, default=0, metavar='N')\n",
    "parser.add_argument('--optimizer', type=str, default='adam', metavar='N')\n",
    "parser.add_argument('--pretrained', type=str, default='true', metavar='N')\n",
    "parser.add_argument('--model', type=str, default='bert-vision', metavar='N')\n",
    "parser.add_argument('--freeze', type=str, default='false', metavar='N')\n",
    "\n",
    "args = parser.parse_args()\n",
    "wandb.config.update(args)\n",
    "\n",
    "config = wandb.config\n",
    "train(config)\n"
   ]
  },
  {
   "cell_type": "code",
   "execution_count": 8,
   "metadata": {
    "collapsed": false,
    "id": "YJA22phbj1S6"
   },
   "outputs": [
    {
     "name": "stderr",
     "output_type": "stream",
     "text": [
      "400 response executing GraphQL.\n",
      "{\"errors\":[{\"message\":\"Invalid sweep config: anaconda 400 error: {\\\"code\\\":400,\\\"message\\\":\\\"AttributeError: 'list' object has no attribute 'keys'\\\"}\\n\",\"path\":[\"upsertSweep\"]}],\"data\":{\"upsertSweep\":null}}\n",
      "\u001b[34m\u001b[1mwandb\u001b[0m: \u001b[32m\u001b[41mERROR\u001b[0m Error while calling W&B API: Invalid sweep config: anaconda 400 error: {\"code\":400,\"message\":\"AttributeError: 'list' object has no attribute 'keys'\"}\n",
      "\u001b[34m\u001b[1mwandb\u001b[0m: \u001b[32m\u001b[41mERROR\u001b[0m  (<Response [400]>)\n"
     ]
    },
    {
     "ename": "CommError",
     "evalue": "Invalid sweep config: anaconda 400 error: {\"code\":400,\"message\":\"AttributeError: 'list' object has no attribute 'keys'\"}\n",
     "output_type": "error",
     "traceback": [
      "\u001b[0;31m---------------------------------------------------------------------------\u001b[0m",
      "\u001b[0;31mHTTPError\u001b[0m                                 Traceback (most recent call last)",
      "\u001b[0;32m/specific/scratches/scratch/guy/miniconda/lib/python3.8/site-packages/wandb/old/retry.py\u001b[0m in \u001b[0;36m__call__\u001b[0;34m(self, *args, **kwargs)\u001b[0m\n\u001b[1;32m     95\u001b[0m             \u001b[0;32mtry\u001b[0m\u001b[0;34m:\u001b[0m\u001b[0;34m\u001b[0m\u001b[0;34m\u001b[0m\u001b[0m\n\u001b[0;32m---> 96\u001b[0;31m                 \u001b[0mresult\u001b[0m \u001b[0;34m=\u001b[0m \u001b[0mself\u001b[0m\u001b[0;34m.\u001b[0m\u001b[0m_call_fn\u001b[0m\u001b[0;34m(\u001b[0m\u001b[0;34m*\u001b[0m\u001b[0margs\u001b[0m\u001b[0;34m,\u001b[0m \u001b[0;34m**\u001b[0m\u001b[0mkwargs\u001b[0m\u001b[0;34m)\u001b[0m\u001b[0;34m\u001b[0m\u001b[0;34m\u001b[0m\u001b[0m\n\u001b[0m\u001b[1;32m     97\u001b[0m                 \u001b[0;31m# Only print resolved attempts once every minute\u001b[0m\u001b[0;34m\u001b[0m\u001b[0;34m\u001b[0m\u001b[0;34m\u001b[0m\u001b[0m\n",
      "\u001b[0;32m/specific/scratches/scratch/guy/miniconda/lib/python3.8/site-packages/wandb/internal/internal_api.py\u001b[0m in \u001b[0;36mexecute\u001b[0;34m(self, *args, **kwargs)\u001b[0m\n\u001b[1;32m    133\u001b[0m             \u001b[0mself\u001b[0m\u001b[0;34m.\u001b[0m\u001b[0mdisplay_gorilla_error_if_found\u001b[0m\u001b[0;34m(\u001b[0m\u001b[0mres\u001b[0m\u001b[0;34m)\u001b[0m\u001b[0;34m\u001b[0m\u001b[0;34m\u001b[0m\u001b[0m\n\u001b[0;32m--> 134\u001b[0;31m             \u001b[0msix\u001b[0m\u001b[0;34m.\u001b[0m\u001b[0mreraise\u001b[0m\u001b[0;34m(\u001b[0m\u001b[0;34m*\u001b[0m\u001b[0msys\u001b[0m\u001b[0;34m.\u001b[0m\u001b[0mexc_info\u001b[0m\u001b[0;34m(\u001b[0m\u001b[0;34m)\u001b[0m\u001b[0;34m)\u001b[0m\u001b[0;34m\u001b[0m\u001b[0;34m\u001b[0m\u001b[0m\n\u001b[0m\u001b[1;32m    135\u001b[0m \u001b[0;34m\u001b[0m\u001b[0m\n",
      "\u001b[0;32m/specific/scratches/scratch/guy/miniconda/lib/python3.8/site-packages/six.py\u001b[0m in \u001b[0;36mreraise\u001b[0;34m(tp, value, tb)\u001b[0m\n\u001b[1;32m    702\u001b[0m                 \u001b[0;32mraise\u001b[0m \u001b[0mvalue\u001b[0m\u001b[0;34m.\u001b[0m\u001b[0mwith_traceback\u001b[0m\u001b[0;34m(\u001b[0m\u001b[0mtb\u001b[0m\u001b[0;34m)\u001b[0m\u001b[0;34m\u001b[0m\u001b[0;34m\u001b[0m\u001b[0m\n\u001b[0;32m--> 703\u001b[0;31m             \u001b[0;32mraise\u001b[0m \u001b[0mvalue\u001b[0m\u001b[0;34m\u001b[0m\u001b[0;34m\u001b[0m\u001b[0m\n\u001b[0m\u001b[1;32m    704\u001b[0m         \u001b[0;32mfinally\u001b[0m\u001b[0;34m:\u001b[0m\u001b[0;34m\u001b[0m\u001b[0;34m\u001b[0m\u001b[0m\n",
      "\u001b[0;32m/specific/scratches/scratch/guy/miniconda/lib/python3.8/site-packages/wandb/internal/internal_api.py\u001b[0m in \u001b[0;36mexecute\u001b[0;34m(self, *args, **kwargs)\u001b[0m\n\u001b[1;32m    127\u001b[0m         \u001b[0;32mtry\u001b[0m\u001b[0;34m:\u001b[0m\u001b[0;34m\u001b[0m\u001b[0;34m\u001b[0m\u001b[0m\n\u001b[0;32m--> 128\u001b[0;31m             \u001b[0;32mreturn\u001b[0m \u001b[0mself\u001b[0m\u001b[0;34m.\u001b[0m\u001b[0mclient\u001b[0m\u001b[0;34m.\u001b[0m\u001b[0mexecute\u001b[0m\u001b[0;34m(\u001b[0m\u001b[0;34m*\u001b[0m\u001b[0margs\u001b[0m\u001b[0;34m,\u001b[0m \u001b[0;34m**\u001b[0m\u001b[0mkwargs\u001b[0m\u001b[0;34m)\u001b[0m\u001b[0;34m\u001b[0m\u001b[0;34m\u001b[0m\u001b[0m\n\u001b[0m\u001b[1;32m    129\u001b[0m         \u001b[0;32mexcept\u001b[0m \u001b[0mrequests\u001b[0m\u001b[0;34m.\u001b[0m\u001b[0mexceptions\u001b[0m\u001b[0;34m.\u001b[0m\u001b[0mHTTPError\u001b[0m \u001b[0;32mas\u001b[0m \u001b[0merr\u001b[0m\u001b[0;34m:\u001b[0m\u001b[0;34m\u001b[0m\u001b[0;34m\u001b[0m\u001b[0m\n",
      "\u001b[0;32m/specific/scratches/scratch/guy/miniconda/lib/python3.8/site-packages/wandb/vendor/gql-0.2.0/gql/client.py\u001b[0m in \u001b[0;36mexecute\u001b[0;34m(self, document, *args, **kwargs)\u001b[0m\n\u001b[1;32m     51\u001b[0m \u001b[0;34m\u001b[0m\u001b[0m\n\u001b[0;32m---> 52\u001b[0;31m         \u001b[0mresult\u001b[0m \u001b[0;34m=\u001b[0m \u001b[0mself\u001b[0m\u001b[0;34m.\u001b[0m\u001b[0m_get_result\u001b[0m\u001b[0;34m(\u001b[0m\u001b[0mdocument\u001b[0m\u001b[0;34m,\u001b[0m \u001b[0;34m*\u001b[0m\u001b[0margs\u001b[0m\u001b[0;34m,\u001b[0m \u001b[0;34m**\u001b[0m\u001b[0mkwargs\u001b[0m\u001b[0;34m)\u001b[0m\u001b[0;34m\u001b[0m\u001b[0;34m\u001b[0m\u001b[0m\n\u001b[0m\u001b[1;32m     53\u001b[0m         \u001b[0;32mif\u001b[0m \u001b[0mresult\u001b[0m\u001b[0;34m.\u001b[0m\u001b[0merrors\u001b[0m\u001b[0;34m:\u001b[0m\u001b[0;34m\u001b[0m\u001b[0;34m\u001b[0m\u001b[0m\n",
      "\u001b[0;32m/specific/scratches/scratch/guy/miniconda/lib/python3.8/site-packages/wandb/vendor/gql-0.2.0/gql/client.py\u001b[0m in \u001b[0;36m_get_result\u001b[0;34m(self, document, *args, **kwargs)\u001b[0m\n\u001b[1;32m     59\u001b[0m         \u001b[0;32mif\u001b[0m \u001b[0;32mnot\u001b[0m \u001b[0mself\u001b[0m\u001b[0;34m.\u001b[0m\u001b[0mretries\u001b[0m\u001b[0;34m:\u001b[0m\u001b[0;34m\u001b[0m\u001b[0;34m\u001b[0m\u001b[0m\n\u001b[0;32m---> 60\u001b[0;31m             \u001b[0;32mreturn\u001b[0m \u001b[0mself\u001b[0m\u001b[0;34m.\u001b[0m\u001b[0mtransport\u001b[0m\u001b[0;34m.\u001b[0m\u001b[0mexecute\u001b[0m\u001b[0;34m(\u001b[0m\u001b[0mdocument\u001b[0m\u001b[0;34m,\u001b[0m \u001b[0;34m*\u001b[0m\u001b[0margs\u001b[0m\u001b[0;34m,\u001b[0m \u001b[0;34m**\u001b[0m\u001b[0mkwargs\u001b[0m\u001b[0;34m)\u001b[0m\u001b[0;34m\u001b[0m\u001b[0;34m\u001b[0m\u001b[0m\n\u001b[0m\u001b[1;32m     61\u001b[0m \u001b[0;34m\u001b[0m\u001b[0m\n",
      "\u001b[0;32m/specific/scratches/scratch/guy/miniconda/lib/python3.8/site-packages/wandb/vendor/gql-0.2.0/gql/transport/requests.py\u001b[0m in \u001b[0;36mexecute\u001b[0;34m(self, document, variable_values, timeout)\u001b[0m\n\u001b[1;32m     38\u001b[0m         \u001b[0mrequest\u001b[0m \u001b[0;34m=\u001b[0m \u001b[0mrequests\u001b[0m\u001b[0;34m.\u001b[0m\u001b[0mpost\u001b[0m\u001b[0;34m(\u001b[0m\u001b[0mself\u001b[0m\u001b[0;34m.\u001b[0m\u001b[0murl\u001b[0m\u001b[0;34m,\u001b[0m \u001b[0;34m**\u001b[0m\u001b[0mpost_args\u001b[0m\u001b[0;34m)\u001b[0m\u001b[0;34m\u001b[0m\u001b[0;34m\u001b[0m\u001b[0m\n\u001b[0;32m---> 39\u001b[0;31m         \u001b[0mrequest\u001b[0m\u001b[0;34m.\u001b[0m\u001b[0mraise_for_status\u001b[0m\u001b[0;34m(\u001b[0m\u001b[0;34m)\u001b[0m\u001b[0;34m\u001b[0m\u001b[0;34m\u001b[0m\u001b[0m\n\u001b[0m\u001b[1;32m     40\u001b[0m \u001b[0;34m\u001b[0m\u001b[0m\n",
      "\u001b[0;32m/specific/scratches/scratch/guy/miniconda/lib/python3.8/site-packages/requests/models.py\u001b[0m in \u001b[0;36mraise_for_status\u001b[0;34m(self)\u001b[0m\n\u001b[1;32m    940\u001b[0m         \u001b[0;32mif\u001b[0m \u001b[0mhttp_error_msg\u001b[0m\u001b[0;34m:\u001b[0m\u001b[0;34m\u001b[0m\u001b[0;34m\u001b[0m\u001b[0m\n\u001b[0;32m--> 941\u001b[0;31m             \u001b[0;32mraise\u001b[0m \u001b[0mHTTPError\u001b[0m\u001b[0;34m(\u001b[0m\u001b[0mhttp_error_msg\u001b[0m\u001b[0;34m,\u001b[0m \u001b[0mresponse\u001b[0m\u001b[0;34m=\u001b[0m\u001b[0mself\u001b[0m\u001b[0;34m)\u001b[0m\u001b[0;34m\u001b[0m\u001b[0;34m\u001b[0m\u001b[0m\n\u001b[0m\u001b[1;32m    942\u001b[0m \u001b[0;34m\u001b[0m\u001b[0m\n",
      "\u001b[0;31mHTTPError\u001b[0m: 400 Client Error: Bad Request for url: https://api.wandb.ai/graphql",
      "\nDuring handling of the above exception, another exception occurred:\n",
      "\u001b[0;31mUsageError\u001b[0m                                Traceback (most recent call last)",
      "\u001b[0;32m/specific/scratches/scratch/guy/miniconda/lib/python3.8/site-packages/wandb/apis/normalize.py\u001b[0m in \u001b[0;36mwrapper\u001b[0;34m(*args, **kwargs)\u001b[0m\n\u001b[1;32m     23\u001b[0m         \u001b[0;32mtry\u001b[0m\u001b[0;34m:\u001b[0m\u001b[0;34m\u001b[0m\u001b[0;34m\u001b[0m\u001b[0m\n\u001b[0;32m---> 24\u001b[0;31m             \u001b[0;32mreturn\u001b[0m \u001b[0mfunc\u001b[0m\u001b[0;34m(\u001b[0m\u001b[0;34m*\u001b[0m\u001b[0margs\u001b[0m\u001b[0;34m,\u001b[0m \u001b[0;34m**\u001b[0m\u001b[0mkwargs\u001b[0m\u001b[0;34m)\u001b[0m\u001b[0;34m\u001b[0m\u001b[0;34m\u001b[0m\u001b[0m\n\u001b[0m\u001b[1;32m     25\u001b[0m         \u001b[0;32mexcept\u001b[0m \u001b[0mrequests\u001b[0m\u001b[0;34m.\u001b[0m\u001b[0mHTTPError\u001b[0m \u001b[0;32mas\u001b[0m \u001b[0merr\u001b[0m\u001b[0;34m:\u001b[0m\u001b[0;34m\u001b[0m\u001b[0;34m\u001b[0m\u001b[0m\n",
      "\u001b[0;32m/specific/scratches/scratch/guy/miniconda/lib/python3.8/site-packages/wandb/internal/internal_api.py\u001b[0m in \u001b[0;36mupsert_sweep\u001b[0;34m(self, config, controller, scheduler, obj_id, project, entity)\u001b[0m\n\u001b[1;32m   1409\u001b[0m             \u001b[0;32mexcept\u001b[0m \u001b[0mUsageError\u001b[0m \u001b[0;32mas\u001b[0m \u001b[0me\u001b[0m\u001b[0;34m:\u001b[0m\u001b[0;34m\u001b[0m\u001b[0;34m\u001b[0m\u001b[0m\n\u001b[0;32m-> 1410\u001b[0;31m                 \u001b[0;32mraise\u001b[0m \u001b[0;34m(\u001b[0m\u001b[0me\u001b[0m\u001b[0;34m)\u001b[0m\u001b[0;34m\u001b[0m\u001b[0;34m\u001b[0m\u001b[0m\n\u001b[0m\u001b[1;32m   1411\u001b[0m             \u001b[0;32mexcept\u001b[0m \u001b[0mException\u001b[0m \u001b[0;32mas\u001b[0m \u001b[0me\u001b[0m\u001b[0;34m:\u001b[0m\u001b[0;34m\u001b[0m\u001b[0;34m\u001b[0m\u001b[0m\n",
      "\u001b[0;32m/specific/scratches/scratch/guy/miniconda/lib/python3.8/site-packages/wandb/internal/internal_api.py\u001b[0m in \u001b[0;36mupsert_sweep\u001b[0;34m(self, config, controller, scheduler, obj_id, project, entity)\u001b[0m\n\u001b[1;32m   1395\u001b[0m             \u001b[0;32mtry\u001b[0m\u001b[0;34m:\u001b[0m\u001b[0;34m\u001b[0m\u001b[0;34m\u001b[0m\u001b[0m\n\u001b[0;32m-> 1396\u001b[0;31m                 response = self.gql(\n\u001b[0m\u001b[1;32m   1397\u001b[0m                     \u001b[0mmutation\u001b[0m\u001b[0;34m,\u001b[0m\u001b[0;34m\u001b[0m\u001b[0;34m\u001b[0m\u001b[0m\n",
      "\u001b[0;32m/specific/scratches/scratch/guy/miniconda/lib/python3.8/site-packages/wandb/old/retry.py\u001b[0m in \u001b[0;36m__call__\u001b[0;34m(self, *args, **kwargs)\u001b[0m\n\u001b[1;32m    104\u001b[0m                 \u001b[0;31m# if the secondary check fails, re-raise\u001b[0m\u001b[0;34m\u001b[0m\u001b[0;34m\u001b[0m\u001b[0;34m\u001b[0m\u001b[0m\n\u001b[0;32m--> 105\u001b[0;31m                 \u001b[0;32mif\u001b[0m \u001b[0;32mnot\u001b[0m \u001b[0mcheck_retry_fn\u001b[0m\u001b[0;34m(\u001b[0m\u001b[0me\u001b[0m\u001b[0;34m)\u001b[0m\u001b[0;34m:\u001b[0m\u001b[0;34m\u001b[0m\u001b[0;34m\u001b[0m\u001b[0m\n\u001b[0m\u001b[1;32m    106\u001b[0m                     \u001b[0;32mraise\u001b[0m\u001b[0;34m\u001b[0m\u001b[0;34m\u001b[0m\u001b[0m\n",
      "\u001b[0;32m/specific/scratches/scratch/guy/miniconda/lib/python3.8/site-packages/wandb/internal/internal_api.py\u001b[0m in \u001b[0;36mno_retry_4xx\u001b[0;34m(e)\u001b[0m\n\u001b[1;32m   1391\u001b[0m             \u001b[0mbody\u001b[0m \u001b[0;34m=\u001b[0m \u001b[0mjson\u001b[0m\u001b[0;34m.\u001b[0m\u001b[0mloads\u001b[0m\u001b[0;34m(\u001b[0m\u001b[0me\u001b[0m\u001b[0;34m.\u001b[0m\u001b[0mresponse\u001b[0m\u001b[0;34m.\u001b[0m\u001b[0mcontent\u001b[0m\u001b[0;34m)\u001b[0m\u001b[0;34m\u001b[0m\u001b[0;34m\u001b[0m\u001b[0m\n\u001b[0;32m-> 1392\u001b[0;31m             \u001b[0;32mraise\u001b[0m \u001b[0mUsageError\u001b[0m\u001b[0;34m(\u001b[0m\u001b[0mbody\u001b[0m\u001b[0;34m[\u001b[0m\u001b[0;34m\"errors\"\u001b[0m\u001b[0;34m]\u001b[0m\u001b[0;34m[\u001b[0m\u001b[0;36m0\u001b[0m\u001b[0;34m]\u001b[0m\u001b[0;34m[\u001b[0m\u001b[0;34m\"message\"\u001b[0m\u001b[0;34m]\u001b[0m\u001b[0;34m)\u001b[0m\u001b[0;34m\u001b[0m\u001b[0;34m\u001b[0m\u001b[0m\n\u001b[0m\u001b[1;32m   1393\u001b[0m \u001b[0;34m\u001b[0m\u001b[0m\n",
      "\u001b[0;31mUsageError\u001b[0m: Invalid sweep config: anaconda 400 error: {\"code\":400,\"message\":\"AttributeError: 'list' object has no attribute 'keys'\"}\n",
      "\nDuring handling of the above exception, another exception occurred:\n",
      "\u001b[0;31mCommError\u001b[0m                                 Traceback (most recent call last)",
      "\u001b[0;32m<ipython-input-8-cd765489b361>\u001b[0m in \u001b[0;36m<module>\u001b[0;34m\u001b[0m\n\u001b[1;32m     10\u001b[0m     }\n\u001b[1;32m     11\u001b[0m }\n\u001b[0;32m---> 12\u001b[0;31m \u001b[0msweep_id\u001b[0m \u001b[0;34m=\u001b[0m \u001b[0mwandb\u001b[0m\u001b[0;34m.\u001b[0m\u001b[0msweep\u001b[0m\u001b[0;34m(\u001b[0m\u001b[0mconfig\u001b[0m\u001b[0;34m,\u001b[0m \u001b[0mproject\u001b[0m \u001b[0;34m=\u001b[0m \u001b[0;34m'bert-vision'\u001b[0m\u001b[0;34m)\u001b[0m\u001b[0;34m\u001b[0m\u001b[0;34m\u001b[0m\u001b[0m\n\u001b[0m",
      "\u001b[0;32m/specific/scratches/scratch/guy/miniconda/lib/python3.8/site-packages/wandb/wandb_controller.py\u001b[0m in \u001b[0;36msweep\u001b[0;34m(sweep, entity, project)\u001b[0m\n\u001b[1;32m    757\u001b[0m         \u001b[0menv\u001b[0m\u001b[0;34m.\u001b[0m\u001b[0mset_project\u001b[0m\u001b[0;34m(\u001b[0m\u001b[0mproject\u001b[0m\u001b[0;34m)\u001b[0m\u001b[0;34m\u001b[0m\u001b[0;34m\u001b[0m\u001b[0m\n\u001b[1;32m    758\u001b[0m     \u001b[0mapi\u001b[0m \u001b[0;34m=\u001b[0m \u001b[0mInternalApi\u001b[0m\u001b[0;34m(\u001b[0m\u001b[0;34m)\u001b[0m\u001b[0;34m\u001b[0m\u001b[0;34m\u001b[0m\u001b[0m\n\u001b[0;32m--> 759\u001b[0;31m     \u001b[0msweep_id\u001b[0m \u001b[0;34m=\u001b[0m \u001b[0mapi\u001b[0m\u001b[0;34m.\u001b[0m\u001b[0mupsert_sweep\u001b[0m\u001b[0;34m(\u001b[0m\u001b[0msweep\u001b[0m\u001b[0;34m)\u001b[0m\u001b[0;34m\u001b[0m\u001b[0;34m\u001b[0m\u001b[0m\n\u001b[0m\u001b[1;32m    760\u001b[0m     \u001b[0mprint\u001b[0m\u001b[0;34m(\u001b[0m\u001b[0;34m\"Create sweep with ID:\"\u001b[0m\u001b[0;34m,\u001b[0m \u001b[0msweep_id\u001b[0m\u001b[0;34m)\u001b[0m\u001b[0;34m\u001b[0m\u001b[0;34m\u001b[0m\u001b[0m\n\u001b[1;32m    761\u001b[0m     \u001b[0msweep_url\u001b[0m \u001b[0;34m=\u001b[0m \u001b[0m_get_sweep_url\u001b[0m\u001b[0;34m(\u001b[0m\u001b[0mapi\u001b[0m\u001b[0;34m,\u001b[0m \u001b[0msweep_id\u001b[0m\u001b[0;34m)\u001b[0m\u001b[0;34m\u001b[0m\u001b[0;34m\u001b[0m\u001b[0m\n",
      "\u001b[0;32m/specific/scratches/scratch/guy/miniconda/lib/python3.8/site-packages/wandb/apis/internal.py\u001b[0m in \u001b[0;36mupsert_sweep\u001b[0;34m(self, *args, **kwargs)\u001b[0m\n\u001b[1;32m     76\u001b[0m \u001b[0;34m\u001b[0m\u001b[0m\n\u001b[1;32m     77\u001b[0m     \u001b[0;32mdef\u001b[0m \u001b[0mupsert_sweep\u001b[0m\u001b[0;34m(\u001b[0m\u001b[0mself\u001b[0m\u001b[0;34m,\u001b[0m \u001b[0;34m*\u001b[0m\u001b[0margs\u001b[0m\u001b[0;34m,\u001b[0m \u001b[0;34m**\u001b[0m\u001b[0mkwargs\u001b[0m\u001b[0;34m)\u001b[0m\u001b[0;34m:\u001b[0m\u001b[0;34m\u001b[0m\u001b[0;34m\u001b[0m\u001b[0m\n\u001b[0;32m---> 78\u001b[0;31m         \u001b[0;32mreturn\u001b[0m \u001b[0mself\u001b[0m\u001b[0;34m.\u001b[0m\u001b[0mapi\u001b[0m\u001b[0;34m.\u001b[0m\u001b[0mupsert_sweep\u001b[0m\u001b[0;34m(\u001b[0m\u001b[0;34m*\u001b[0m\u001b[0margs\u001b[0m\u001b[0;34m,\u001b[0m \u001b[0;34m**\u001b[0m\u001b[0mkwargs\u001b[0m\u001b[0;34m)\u001b[0m\u001b[0;34m\u001b[0m\u001b[0;34m\u001b[0m\u001b[0m\n\u001b[0m\u001b[1;32m     79\u001b[0m \u001b[0;34m\u001b[0m\u001b[0m\n\u001b[1;32m     80\u001b[0m     \u001b[0;32mdef\u001b[0m \u001b[0mregister_agent\u001b[0m\u001b[0;34m(\u001b[0m\u001b[0mself\u001b[0m\u001b[0;34m,\u001b[0m \u001b[0;34m*\u001b[0m\u001b[0margs\u001b[0m\u001b[0;34m,\u001b[0m \u001b[0;34m**\u001b[0m\u001b[0mkwargs\u001b[0m\u001b[0;34m)\u001b[0m\u001b[0;34m:\u001b[0m\u001b[0;34m\u001b[0m\u001b[0;34m\u001b[0m\u001b[0m\n",
      "\u001b[0;32m/specific/scratches/scratch/guy/miniconda/lib/python3.8/site-packages/wandb/apis/normalize.py\u001b[0m in \u001b[0;36mwrapper\u001b[0;34m(*args, **kwargs)\u001b[0m\n\u001b[1;32m     60\u001b[0m                 \u001b[0msix\u001b[0m\u001b[0;34m.\u001b[0m\u001b[0mreraise\u001b[0m\u001b[0;34m(\u001b[0m\u001b[0;34m*\u001b[0m\u001b[0msys\u001b[0m\u001b[0;34m.\u001b[0m\u001b[0mexc_info\u001b[0m\u001b[0;34m(\u001b[0m\u001b[0;34m)\u001b[0m\u001b[0;34m)\u001b[0m\u001b[0;34m\u001b[0m\u001b[0;34m\u001b[0m\u001b[0m\n\u001b[1;32m     61\u001b[0m             \u001b[0;32melse\u001b[0m\u001b[0;34m:\u001b[0m\u001b[0;34m\u001b[0m\u001b[0;34m\u001b[0m\u001b[0m\n\u001b[0;32m---> 62\u001b[0;31m                 \u001b[0msix\u001b[0m\u001b[0;34m.\u001b[0m\u001b[0mreraise\u001b[0m\u001b[0;34m(\u001b[0m\u001b[0mCommError\u001b[0m\u001b[0;34m,\u001b[0m \u001b[0mCommError\u001b[0m\u001b[0;34m(\u001b[0m\u001b[0mmessage\u001b[0m\u001b[0;34m,\u001b[0m \u001b[0merr\u001b[0m\u001b[0;34m)\u001b[0m\u001b[0;34m,\u001b[0m \u001b[0msys\u001b[0m\u001b[0;34m.\u001b[0m\u001b[0mexc_info\u001b[0m\u001b[0;34m(\u001b[0m\u001b[0;34m)\u001b[0m\u001b[0;34m[\u001b[0m\u001b[0;36m2\u001b[0m\u001b[0;34m]\u001b[0m\u001b[0;34m)\u001b[0m\u001b[0;34m\u001b[0m\u001b[0;34m\u001b[0m\u001b[0m\n\u001b[0m\u001b[1;32m     63\u001b[0m \u001b[0;34m\u001b[0m\u001b[0m\n\u001b[1;32m     64\u001b[0m     \u001b[0;32mreturn\u001b[0m \u001b[0mwrapper\u001b[0m\u001b[0;34m\u001b[0m\u001b[0;34m\u001b[0m\u001b[0m\n",
      "\u001b[0;32m/specific/scratches/scratch/guy/miniconda/lib/python3.8/site-packages/six.py\u001b[0m in \u001b[0;36mreraise\u001b[0;34m(tp, value, tb)\u001b[0m\n\u001b[1;32m    700\u001b[0m                 \u001b[0mvalue\u001b[0m \u001b[0;34m=\u001b[0m \u001b[0mtp\u001b[0m\u001b[0;34m(\u001b[0m\u001b[0;34m)\u001b[0m\u001b[0;34m\u001b[0m\u001b[0;34m\u001b[0m\u001b[0m\n\u001b[1;32m    701\u001b[0m             \u001b[0;32mif\u001b[0m \u001b[0mvalue\u001b[0m\u001b[0;34m.\u001b[0m\u001b[0m__traceback__\u001b[0m \u001b[0;32mis\u001b[0m \u001b[0;32mnot\u001b[0m \u001b[0mtb\u001b[0m\u001b[0;34m:\u001b[0m\u001b[0;34m\u001b[0m\u001b[0;34m\u001b[0m\u001b[0m\n\u001b[0;32m--> 702\u001b[0;31m                 \u001b[0;32mraise\u001b[0m \u001b[0mvalue\u001b[0m\u001b[0;34m.\u001b[0m\u001b[0mwith_traceback\u001b[0m\u001b[0;34m(\u001b[0m\u001b[0mtb\u001b[0m\u001b[0;34m)\u001b[0m\u001b[0;34m\u001b[0m\u001b[0;34m\u001b[0m\u001b[0m\n\u001b[0m\u001b[1;32m    703\u001b[0m             \u001b[0;32mraise\u001b[0m \u001b[0mvalue\u001b[0m\u001b[0;34m\u001b[0m\u001b[0;34m\u001b[0m\u001b[0m\n\u001b[1;32m    704\u001b[0m         \u001b[0;32mfinally\u001b[0m\u001b[0;34m:\u001b[0m\u001b[0;34m\u001b[0m\u001b[0;34m\u001b[0m\u001b[0m\n",
      "\u001b[0;32m/specific/scratches/scratch/guy/miniconda/lib/python3.8/site-packages/wandb/apis/normalize.py\u001b[0m in \u001b[0;36mwrapper\u001b[0;34m(*args, **kwargs)\u001b[0m\n\u001b[1;32m     22\u001b[0m         \u001b[0mmessage\u001b[0m \u001b[0;34m=\u001b[0m \u001b[0;34m\"Whoa, you found a bug.\"\u001b[0m\u001b[0;34m\u001b[0m\u001b[0;34m\u001b[0m\u001b[0m\n\u001b[1;32m     23\u001b[0m         \u001b[0;32mtry\u001b[0m\u001b[0;34m:\u001b[0m\u001b[0;34m\u001b[0m\u001b[0;34m\u001b[0m\u001b[0m\n\u001b[0;32m---> 24\u001b[0;31m             \u001b[0;32mreturn\u001b[0m \u001b[0mfunc\u001b[0m\u001b[0;34m(\u001b[0m\u001b[0;34m*\u001b[0m\u001b[0margs\u001b[0m\u001b[0;34m,\u001b[0m \u001b[0;34m**\u001b[0m\u001b[0mkwargs\u001b[0m\u001b[0;34m)\u001b[0m\u001b[0;34m\u001b[0m\u001b[0;34m\u001b[0m\u001b[0m\n\u001b[0m\u001b[1;32m     25\u001b[0m         \u001b[0;32mexcept\u001b[0m \u001b[0mrequests\u001b[0m\u001b[0;34m.\u001b[0m\u001b[0mHTTPError\u001b[0m \u001b[0;32mas\u001b[0m \u001b[0merr\u001b[0m\u001b[0;34m:\u001b[0m\u001b[0;34m\u001b[0m\u001b[0;34m\u001b[0m\u001b[0m\n\u001b[1;32m     26\u001b[0m             \u001b[0;32mraise\u001b[0m \u001b[0mCommError\u001b[0m\u001b[0;34m(\u001b[0m\u001b[0merr\u001b[0m\u001b[0;34m.\u001b[0m\u001b[0mresponse\u001b[0m\u001b[0;34m,\u001b[0m \u001b[0merr\u001b[0m\u001b[0;34m)\u001b[0m\u001b[0;34m\u001b[0m\u001b[0;34m\u001b[0m\u001b[0m\n",
      "\u001b[0;32m/specific/scratches/scratch/guy/miniconda/lib/python3.8/site-packages/wandb/internal/internal_api.py\u001b[0m in \u001b[0;36mupsert_sweep\u001b[0;34m(self, config, controller, scheduler, obj_id, project, entity)\u001b[0m\n\u001b[1;32m   1408\u001b[0m                 )\n\u001b[1;32m   1409\u001b[0m             \u001b[0;32mexcept\u001b[0m \u001b[0mUsageError\u001b[0m \u001b[0;32mas\u001b[0m \u001b[0me\u001b[0m\u001b[0;34m:\u001b[0m\u001b[0;34m\u001b[0m\u001b[0;34m\u001b[0m\u001b[0m\n\u001b[0;32m-> 1410\u001b[0;31m                 \u001b[0;32mraise\u001b[0m \u001b[0;34m(\u001b[0m\u001b[0me\u001b[0m\u001b[0;34m)\u001b[0m\u001b[0;34m\u001b[0m\u001b[0;34m\u001b[0m\u001b[0m\n\u001b[0m\u001b[1;32m   1411\u001b[0m             \u001b[0;32mexcept\u001b[0m \u001b[0mException\u001b[0m \u001b[0;32mas\u001b[0m \u001b[0me\u001b[0m\u001b[0;34m:\u001b[0m\u001b[0;34m\u001b[0m\u001b[0;34m\u001b[0m\u001b[0m\n\u001b[1;32m   1412\u001b[0m                 \u001b[0;31m# graphql schema exception is generic\u001b[0m\u001b[0;34m\u001b[0m\u001b[0;34m\u001b[0m\u001b[0;34m\u001b[0m\u001b[0m\n",
      "\u001b[0;32m/specific/scratches/scratch/guy/miniconda/lib/python3.8/site-packages/wandb/internal/internal_api.py\u001b[0m in \u001b[0;36mupsert_sweep\u001b[0;34m(self, config, controller, scheduler, obj_id, project, entity)\u001b[0m\n\u001b[1;32m   1394\u001b[0m         \u001b[0;32mfor\u001b[0m \u001b[0mmutation\u001b[0m \u001b[0;32min\u001b[0m \u001b[0mmutation_new\u001b[0m\u001b[0;34m,\u001b[0m \u001b[0mmutation_old\u001b[0m\u001b[0;34m:\u001b[0m\u001b[0;34m\u001b[0m\u001b[0;34m\u001b[0m\u001b[0m\n\u001b[1;32m   1395\u001b[0m             \u001b[0;32mtry\u001b[0m\u001b[0;34m:\u001b[0m\u001b[0;34m\u001b[0m\u001b[0;34m\u001b[0m\u001b[0m\n\u001b[0;32m-> 1396\u001b[0;31m                 response = self.gql(\n\u001b[0m\u001b[1;32m   1397\u001b[0m                     \u001b[0mmutation\u001b[0m\u001b[0;34m,\u001b[0m\u001b[0;34m\u001b[0m\u001b[0;34m\u001b[0m\u001b[0m\n\u001b[1;32m   1398\u001b[0m                     variable_values={\n",
      "\u001b[0;32m/specific/scratches/scratch/guy/miniconda/lib/python3.8/site-packages/wandb/old/retry.py\u001b[0m in \u001b[0;36m__call__\u001b[0;34m(self, *args, **kwargs)\u001b[0m\n\u001b[1;32m    103\u001b[0m             \u001b[0;32mexcept\u001b[0m \u001b[0mself\u001b[0m\u001b[0;34m.\u001b[0m\u001b[0m_retryable_exceptions\u001b[0m \u001b[0;32mas\u001b[0m \u001b[0me\u001b[0m\u001b[0;34m:\u001b[0m\u001b[0;34m\u001b[0m\u001b[0;34m\u001b[0m\u001b[0m\n\u001b[1;32m    104\u001b[0m                 \u001b[0;31m# if the secondary check fails, re-raise\u001b[0m\u001b[0;34m\u001b[0m\u001b[0;34m\u001b[0m\u001b[0;34m\u001b[0m\u001b[0m\n\u001b[0;32m--> 105\u001b[0;31m                 \u001b[0;32mif\u001b[0m \u001b[0;32mnot\u001b[0m \u001b[0mcheck_retry_fn\u001b[0m\u001b[0;34m(\u001b[0m\u001b[0me\u001b[0m\u001b[0;34m)\u001b[0m\u001b[0;34m:\u001b[0m\u001b[0;34m\u001b[0m\u001b[0;34m\u001b[0m\u001b[0m\n\u001b[0m\u001b[1;32m    106\u001b[0m                     \u001b[0;32mraise\u001b[0m\u001b[0;34m\u001b[0m\u001b[0;34m\u001b[0m\u001b[0m\n\u001b[1;32m    107\u001b[0m                 if (datetime.datetime.now() - start_time >= retry_timedelta\n",
      "\u001b[0;32m/specific/scratches/scratch/guy/miniconda/lib/python3.8/site-packages/wandb/internal/internal_api.py\u001b[0m in \u001b[0;36mno_retry_4xx\u001b[0;34m(e)\u001b[0m\n\u001b[1;32m   1390\u001b[0m                 \u001b[0;32mreturn\u001b[0m \u001b[0;32mTrue\u001b[0m\u001b[0;34m\u001b[0m\u001b[0;34m\u001b[0m\u001b[0m\n\u001b[1;32m   1391\u001b[0m             \u001b[0mbody\u001b[0m \u001b[0;34m=\u001b[0m \u001b[0mjson\u001b[0m\u001b[0;34m.\u001b[0m\u001b[0mloads\u001b[0m\u001b[0;34m(\u001b[0m\u001b[0me\u001b[0m\u001b[0;34m.\u001b[0m\u001b[0mresponse\u001b[0m\u001b[0;34m.\u001b[0m\u001b[0mcontent\u001b[0m\u001b[0;34m)\u001b[0m\u001b[0;34m\u001b[0m\u001b[0;34m\u001b[0m\u001b[0m\n\u001b[0;32m-> 1392\u001b[0;31m             \u001b[0;32mraise\u001b[0m \u001b[0mUsageError\u001b[0m\u001b[0;34m(\u001b[0m\u001b[0mbody\u001b[0m\u001b[0;34m[\u001b[0m\u001b[0;34m\"errors\"\u001b[0m\u001b[0;34m]\u001b[0m\u001b[0;34m[\u001b[0m\u001b[0;36m0\u001b[0m\u001b[0;34m]\u001b[0m\u001b[0;34m[\u001b[0m\u001b[0;34m\"message\"\u001b[0m\u001b[0;34m]\u001b[0m\u001b[0;34m)\u001b[0m\u001b[0;34m\u001b[0m\u001b[0;34m\u001b[0m\u001b[0m\n\u001b[0m\u001b[1;32m   1393\u001b[0m \u001b[0;34m\u001b[0m\u001b[0m\n\u001b[1;32m   1394\u001b[0m         \u001b[0;32mfor\u001b[0m \u001b[0mmutation\u001b[0m \u001b[0;32min\u001b[0m \u001b[0mmutation_new\u001b[0m\u001b[0;34m,\u001b[0m \u001b[0mmutation_old\u001b[0m\u001b[0;34m:\u001b[0m\u001b[0;34m\u001b[0m\u001b[0;34m\u001b[0m\u001b[0m\n",
      "\u001b[0;31mCommError\u001b[0m: Invalid sweep config: anaconda 400 error: {\"code\":400,\"message\":\"AttributeError: 'list' object has no attribute 'keys'\"}\n"
     ]
    }
   ],
   "source": [
    "config = {\n",
    "    'method': 'grid',\n",
    "    'program': 'bert-vision.py',\n",
    "    'parameters': \n",
    "    {\n",
    "        'lr_idx': {'values': [0, 1, 2, 3]},\n",
    "        'optimizer':{'values': ['adam', 'sgd']},\n",
    "        'model': {'values': ['resnet', 'bert-vision']},\n",
    "        'pretrained': {'values': [True, False]}\n",
    "    }\n",
    "}\n",
    "sweep_id = wandb.sweep(config, project = 'bert-vision')"
   ]
  },
  {
   "cell_type": "code",
   "execution_count": 3,
   "metadata": {
    "collapsed": false,
    "id": "OwZwLpMFyeNE"
   },
   "outputs": [
    {
     "name": "stdout",
     "output_type": "stream",
     "text": [
      "Traceback (most recent call last):\r\n",
      "  File \"bert-vision.py\", line 23, in <module>\r\n",
      "    from torchvision.datasets import ImageNet, ImageFolder, CIFAR10, CIFAR100\r\n",
      "ImportError: cannot import name ImageNet\r\n"
     ]
    }
   ],
   "source": [
    "!python bert-vision.py --lr_idx=1 --model=bert-vision --optimizer=adam --pretrained=false --freeze=true"
   ]
  },
  {
   "cell_type": "code",
   "execution_count": null,
   "metadata": {
    "collapsed": true,
    "id": "fU3OwHktlzJR"
   },
   "outputs": [],
   "source": [
    "assert(sweep_id.isalnum())\n",
    "!wandb agent {sweep_id}"
   ]
  },
  {
   "cell_type": "code",
   "execution_count": null,
   "metadata": {
    "collapsed": true,
    "id": "BMj5CiiIlzJc"
   },
   "outputs": [],
   "source": []
  },
  {
   "cell_type": "markdown",
   "metadata": {
    "id": "oT_5ShNJmBcx"
   },
   "source": [
    "# Experiments"
   ]
  },
  {
   "cell_type": "code",
   "execution_count": 3,
   "metadata": {
    "collapsed": true,
    "id": "sS-kATGqeQfc"
   },
   "outputs": [],
   "source": [
    "\n",
    "class DummyLayer(nn.Module):\n",
    "  def __init__(self, *args, **kwargs):\n",
    "    super().__init__()\n",
    "    pass\n",
    "  def forward(self, x, *args, **kwargs):\n",
    "    return x\n",
    "\n",
    "class PlainBERT(nn.Module):\n",
    "    def __init__(self, n_tokens, min_layer = None):\n",
    "        super().__init__()\n",
    "        self.nLayers = 6\n",
    "        self.nHeads = 12\n",
    "        self.seqLen = 512\n",
    "\n",
    "\n",
    "        bert = AutoModel.from_pretrained('distilbert-base-uncased', cache_dir = cache_dir)\n",
    "        self.position_embeddings = nn.Parameter(torch.Tensor(bert.embeddings.position_embeddings(torch.arange(self.seqLen)).detach().numpy()))\n",
    "        if min_layer is None:\n",
    "          self.bert = bert.transformer\n",
    "        else:\n",
    "          raise NotImplementedError\n",
    "          bert_ = bert.transformer\n",
    "          for n, m in bert_.layer.named_children():\n",
    "            if int(n) < min_layer:\n",
    "              setattr(bert_.layer, n, DummyLayer())\n",
    "        \n",
    "          self.bert = bert_\n",
    "        self.bert.requires_grad_(False)\n",
    "\n",
    "\n",
    "    def forward(self, x):\n",
    "        return self.bert.forward(x + self.position_embeddings, attn_mask = torch.ones(x.size(0), 512).to(x.device),\n",
    "                                head_mask = torch.ones(self.nLayers, x.size(0), self.nHeads, self.seqLen, self.seqLen).to(x.device))\n",
    "\n",
    "class BertVision(nn.Module):\n",
    "    def __init__(self,  n_classes, img_dim):\n",
    "        super().__init__()\n",
    "        self.with_classifier = True\n",
    "        self.n_tokens = np.prod(img_dim)\n",
    "        self.top = nn.Sequential(\n",
    "                                 nn.Conv2d(3, 32, 3, padding = 1 ),\n",
    "                                 nn.LeakyReLU(0.2),\n",
    "                                 nn.Conv2d(32, 100, 3, padding = 1),\n",
    "                                 nn.LeakyReLU(0.2),\n",
    "                                 nn.Conv2d(100, 200, 3, padding = 1),\n",
    "                                 nn.LeakyReLU(0.2),\n",
    "                                 nn.Conv2d(200, 768, 3, stride = (1, 2), padding = 1),\n",
    "                                 nn.LeakyReLU(0.2)\n",
    "                                )\n",
    "        \n",
    "        self.top.apply(self._init_top)\n",
    "        self.bert = PlainBERT(n_tokens = self.n_tokens)\n",
    "        self.fc = nn.Linear(768 * self.n_tokens//2, n_classes)\n",
    "        self.layer_norm = nn.LayerNorm((512,))\n",
    "\n",
    "    def toggleIntermediate(self):\n",
    "        self.with_classifier = !self.with_classifier\n",
    "    \n",
    "    \n",
    "    def _init_top(self, m):\n",
    "        if isinstance(m, (nn.Conv2d, nn.Linear)):\n",
    "            nn.init.kaiming_uniform_(m.weight)\n",
    "            m.bias.data.fill_(0.01)\n",
    "        pass\n",
    "    def forward(self, x):\n",
    "        x = self.top(x)\n",
    "        x = x.view(x.size(0), x.size(1), -1)\n",
    "        x = x.transpose(1,2)\n",
    "        x = self.bert(x)\n",
    "        x = torch.stack(x).squeeze(0)\n",
    "        x = x.transpose(1,2).contiguous()\n",
    "#         x = self.layer_norm(x)\n",
    "#         x = torch.mean(x, dim = (-2,))\n",
    "        x = x.view(x.size(0), -1)\n",
    "        if self.with_classifier:\n",
    "            x = self.fc(x)\n",
    "        return x.squeeze(1)"
   ]
  },
  {
   "cell_type": "code",
   "execution_count": 4,
   "metadata": {
    "collapsed": false,
    "id": "-Udifw4deQfn"
   },
   "outputs": [
    {
     "name": "stdout",
     "output_type": "stream",
     "text": [
      "Downloading https://www.cs.toronto.edu/~kriz/cifar-100-python.tar.gz to /vol/scratch/guy//data/cifar100/cifar-100-python.tar.gz\n"
     ]
    },
    {
     "data": {
      "application/vnd.jupyter.widget-view+json": {
       "model_id": "724492e671e646fe85b8ca9cc7f802ba",
       "version_major": 2,
       "version_minor": 0
      },
      "text/plain": [
       "HBox(children=(FloatProgress(value=1.0, bar_style='info', max=1.0), HTML(value='')))"
      ]
     },
     "metadata": {},
     "output_type": "display_data"
    },
    {
     "name": "stdout",
     "output_type": "stream",
     "text": [
      "Extracting /vol/scratch/guy//data/cifar100/cifar-100-python.tar.gz to /vol/scratch/guy//data/cifar100\n",
      "Files already downloaded and verified\n"
     ]
    }
   ],
   "source": [
    "device = 'cuda'\n",
    "train_ds = CIFAR100(\"{}/data/cifar100\".format(guy_folder), download = True, transform=transforms.ToTensor())\n",
    "test_ds = CIFAR100(\"{}/data/cifar100\".format(guy_folder), download = True, transform=transforms.ToTensor(), train = False)"
   ]
  },
  {
   "cell_type": "code",
   "execution_count": null,
   "metadata": {
    "collapsed": true,
    "id": "6ixPIuePqq86"
   },
   "outputs": [],
   "source": [
    "%%script false\n",
    "# After login in through firefox to ImageNet\n",
    "%cd {guy_folder}/data\n",
    "!wget http://www.image-net.org/archive/stanford/fall11_whole.tar\n",
    "# !tar -xvf "
   ]
  },
  {
   "cell_type": "code",
   "execution_count": null,
   "metadata": {
    "collapsed": true,
    "id": "xnJGD7m7qfSw"
   },
   "outputs": [],
   "source": [
    "%%script false\n",
    "train_folder = \"{}/data/imagenet12/train\".format(guy_folder)\n",
    "\n",
    "train_ds = ImageFolder(train_folder,\n",
    "            transform = transforms.Compose([transforms.ToTensor()]))"
   ]
  },
  {
   "cell_type": "code",
   "execution_count": 6,
   "metadata": {
    "collapsed": false,
    "id": "C3MFYU_SeQfx"
   },
   "outputs": [
    {
     "ename": "NameError",
     "evalue": "name 'model' is not defined",
     "output_type": "error",
     "traceback": [
      "\u001b[0;31m---------------------------------------------------------------------------\u001b[0m",
      "\u001b[0;31mNameError\u001b[0m                                 Traceback (most recent call last)",
      "\u001b[0;32m<ipython-input-6-e41b6e0ce3a6>\u001b[0m in \u001b[0;36m<module>\u001b[0;34m\u001b[0m\n\u001b[1;32m      6\u001b[0m \u001b[0mclass_rep\u001b[0m \u001b[0;34m=\u001b[0m \u001b[0mdefaultdict\u001b[0m\u001b[0;34m(\u001b[0m\u001b[0mint\u001b[0m\u001b[0;34m)\u001b[0m\u001b[0;34m\u001b[0m\u001b[0;34m\u001b[0m\u001b[0m\n\u001b[1;32m      7\u001b[0m \u001b[0mcriterion\u001b[0m \u001b[0;34m=\u001b[0m \u001b[0mnn\u001b[0m\u001b[0;34m.\u001b[0m\u001b[0mCrossEntropyLoss\u001b[0m\u001b[0;34m(\u001b[0m\u001b[0;34m)\u001b[0m\u001b[0;34m\u001b[0m\u001b[0;34m\u001b[0m\u001b[0m\n\u001b[0;32m----> 8\u001b[0;31m \u001b[0moptimizer\u001b[0m \u001b[0;34m=\u001b[0m \u001b[0mtorch\u001b[0m\u001b[0;34m.\u001b[0m\u001b[0moptim\u001b[0m\u001b[0;34m.\u001b[0m\u001b[0mAdamW\u001b[0m\u001b[0;34m(\u001b[0m\u001b[0mmodel\u001b[0m\u001b[0;34m.\u001b[0m\u001b[0mparameters\u001b[0m\u001b[0;34m(\u001b[0m\u001b[0;34m)\u001b[0m\u001b[0;34m,\u001b[0m \u001b[0mlr\u001b[0m \u001b[0;34m=\u001b[0m \u001b[0;36m1e-6\u001b[0m\u001b[0;34m)\u001b[0m\u001b[0;34m\u001b[0m\u001b[0;34m\u001b[0m\u001b[0m\n\u001b[0m\u001b[1;32m      9\u001b[0m \u001b[0mtrain_dataloader\u001b[0m \u001b[0;34m=\u001b[0m \u001b[0mDataLoader\u001b[0m\u001b[0;34m(\u001b[0m\u001b[0mtrain_ds\u001b[0m\u001b[0;34m,\u001b[0m \u001b[0mbatch_size\u001b[0m \u001b[0;34m=\u001b[0m \u001b[0mbatch_size\u001b[0m\u001b[0;34m,\u001b[0m \u001b[0mshuffle\u001b[0m \u001b[0;34m=\u001b[0m \u001b[0;32mTrue\u001b[0m\u001b[0;34m)\u001b[0m\u001b[0;34m\u001b[0m\u001b[0;34m\u001b[0m\u001b[0m\n\u001b[1;32m     10\u001b[0m \u001b[0mtest_dataloader\u001b[0m \u001b[0;34m=\u001b[0m \u001b[0mDataLoader\u001b[0m\u001b[0;34m(\u001b[0m\u001b[0mtest_ds\u001b[0m\u001b[0;34m,\u001b[0m \u001b[0mbatch_size\u001b[0m \u001b[0;34m=\u001b[0m \u001b[0mbatch_size\u001b[0m\u001b[0;34m,\u001b[0m \u001b[0mshuffle\u001b[0m \u001b[0;34m=\u001b[0m \u001b[0;32mTrue\u001b[0m\u001b[0;34m)\u001b[0m\u001b[0;34m\u001b[0m\u001b[0;34m\u001b[0m\u001b[0m\n",
      "\u001b[0;31mNameError\u001b[0m: name 'model' is not defined"
     ]
    }
   ],
   "source": [
    "from collections import defaultdict\n",
    "batch_size = 8\n",
    "total = int(len(train_ds)/batch_size )\n",
    "\n",
    "from tqdm import tqdm_notebook, tqdm\n",
    "class_rep = defaultdict(int)\n",
    "criterion = nn.CrossEntropyLoss()\n",
    "optimizer = torch.optim.AdamW(model.parameters(), lr = 1e-6)\n",
    "train_dataloader = DataLoader(train_ds, batch_size = batch_size, shuffle = True)\n",
    "test_dataloader = DataLoader(test_ds, batch_size = batch_size, shuffle = True)\n",
    "pbar = tqdm(enumerate(train_dataloader), total = total, leave = True, position = 0)\n",
    "acc_sum = 0\n",
    "\n",
    "for i, (x,y) in pbar:\n",
    "    if i >= total:\n",
    "        break\n",
    "    model.eval()\n",
    "    x_test, y_test = next(iter(test_dataloader))\n",
    "    test_acc = ((model(x_test.to(device)).argmax(dim =  -1) == y_test.to(device)).sum()).item()/batch_size\n",
    "    model.train()\n",
    "    \n",
    "    optimizer.zero_grad()\n",
    "    y = y.to(device)\n",
    "    yhat = model(x.to(device))\n",
    "    loss = criterion(yhat, y)\n",
    "    acc_sum += (yhat.argmax(dim =  -1) == y).sum()\n",
    "    class_rep[y[0].item()] += 1 # Incomplete\n",
    "    topk = np.where(np.argsort(yhat[0].cpu().detach().numpy()) == y[0].detach().cpu().numpy())[0][0] # TODO: Incomplete\n",
    "    \n",
    "    pbar.set_postfix_str(\"Loss: {:.2f} Test Acc: {:.2f} Acc: {:.2f} Top: {} Class: {}\".format(loss.item(),\n",
    "                                                                                               test_acc, \n",
    "                                                                             acc_sum.item()/float(batch_size * (i+1)), \n",
    "                                                                             topk, class_rep[y[0].item()]))\n",
    "    loss.backward()\n",
    "    optimizer.step()"
   ]
  },
  {
   "cell_type": "code",
   "execution_count": null,
   "metadata": {
    "colab": {
     "base_uri": "https://localhost:8080/",
     "height": 33
    },
    "collapsed": false,
    "id": "ul5_1EQo4ynl",
    "outputId": "6d8957e3-3276-4c16-9cd4-e8bc8a7c58f1"
   },
   "outputs": [
    {
     "name": "stderr",
     "output_type": "stream",
     "text": [
      "100%|█████████▉| 1561/1562 [02:02<00:00, 12.76it/s, Loss: 3.81 Acc: 0.07 Top: 93 Class: 12]"
     ]
    }
   ],
   "source": [
    "from collections import defaultdict\n",
    "batch_size = 32\n",
    "total = int(len(train_ds)/batch_size )\n",
    "\n",
    "from tqdm import tqdm_notebook, tqdm\n",
    "class_rep = defaultdict(int)\n",
    "criterion = nn.CrossEntropyLoss()\n",
    "optimizer = torch.optim.Adam(vision_model.parameters(), lr = 1e-2)\n",
    "train_dataloader = DataLoader(train_ds, batch_size = batch_size, shuffle = True)\n",
    "pbar = tqdm(enumerate(train_dataloader), total = total, leave = True, position = 0)\n",
    "acc_sum = 0\n",
    "\n",
    "for i, (x,y) in pbar:\n",
    "    if i >= total:\n",
    "        break\n",
    "    optimizer.zero_grad()\n",
    "    y = y.to(device)\n",
    "    # x = transforms.Normalize(mean=[0.485, 0.456, 0.406],\n",
    "    #         std=[0.229, 0.224, 0.225],)(x)\n",
    "    yhat = vision_model(x.to(device))\n",
    "    loss = criterion(yhat, y)\n",
    "    acc_sum += (yhat.argmax(dim =  -1) == y).sum()\n",
    "    class_rep[y[0].item()] += 1 # Incomplete\n",
    "    topk = np.where(np.argsort(yhat[0].cpu().detach().numpy()) == y[0].detach().cpu().numpy())[0][0] # TODO: Incomplete\n",
    "    pbar.set_postfix_str(\"Loss: {:.2f} Acc: {:.2f} Top: {} Class: {}\".format(loss.item(), \n",
    "                                                                            acc_sum.item()/float(batch_size * (i+1)), \n",
    "                                                                            topk, class_rep[y[0].item()]))\n",
    "    loss.backward()\n",
    "    optimizer.step()"
   ]
  },
  {
   "cell_type": "code",
   "execution_count": null,
   "metadata": {
    "collapsed": true,
    "id": "-iOzYWVLeQf1"
   },
   "outputs": [],
   "source": [
    "y  = []\n",
    "z = []\n",
    "for x, _  in tqdm(train_ds):\n",
    "    z.append(x)\n",
    "    y.append((model(x.to(device).unsqueeze(0))).detach())"
   ]
  },
  {
   "cell_type": "code",
   "execution_count": null,
   "metadata": {
    "collapsed": true,
    "id": "D-3XJcm1eQf5"
   },
   "outputs": [],
   "source": [
    "y = torch.stack(y)\n",
    "z = torch.stack(z)"
   ]
  },
  {
   "cell_type": "code",
   "execution_count": null,
   "metadata": {
    "colab": {
     "base_uri": "https://localhost:8080/",
     "height": 33
    },
    "collapsed": false,
    "id": "-FqeYGjteQf9",
    "outputId": "825df2ce-a86d-427c-cbf8-afe92780eddb"
   },
   "outputs": [
    {
     "data": {
      "text/plain": [
       "tensor(0.1882, device='cuda:0')"
      ]
     },
     "execution_count": 22,
     "metadata": {
      "tags": []
     },
     "output_type": "execute_result"
    }
   ],
   "source": [
    "z.std()/y.std()"
   ]
  },
  {
   "cell_type": "code",
   "execution_count": null,
   "metadata": {
    "collapsed": true,
    "id": "nQ5EySnveQgC"
   },
   "outputs": [],
   "source": [
    "i = np.random.choice(len(train_ds))\n",
    "print(F.softmax(model(train_ds[i][0].unsqueeze(0).to(device))))\n",
    "print(model(train_ds[i][0].unsqueeze(0).to(device)).argmax())\n",
    "print(train_ds[i][1])\n",
    "t = transforms.Compose([\n",
    "#     transforms.Grayscale(),\n",
    "    transforms.ToPILImage(),\n",
    "    transforms.Grayscale(3),\n",
    "    transforms.ToTensor(),\n",
    "    \n",
    "    ])(train_ds[i][0])\n",
    "print(F.softmax(model(t.unsqueeze(0).to(device))))\n",
    "print(model(t.unsqueeze(0).to(device)).argmax())\n",
    "\n",
    "print(F.softmax(model(((train_ds[i+1][0])).unsqueeze(0).to(device))))\n",
    "print(F.softmax(model(((train_ds[i+1][0])).unsqueeze(0).to(device))).argmax())\n"
   ]
  },
  {
   "cell_type": "code",
   "execution_count": null,
   "metadata": {
    "collapsed": true,
    "id": "ncJnwGykeQgH"
   },
   "outputs": [],
   "source": [
    "model.load_state_dict(state_dict,strict = False)"
   ]
  },
  {
   "cell_type": "code",
   "execution_count": null,
   "metadata": {
    "collapsed": true,
    "id": "zPjRCbmAeQgL"
   },
   "outputs": [],
   "source": [
    "model.toggleIntermediate()\n",
    "i = np.random.choice(len(train_ds))\n",
    "a1 = (F.softmax(model(train_ds[i][0].unsqueeze(0).to(device))))\n",
    "\n",
    "t = transforms.Compose([\n",
    "    transforms.ToPILImage(),\n",
    "    transforms.Grayscale(3),\n",
    "#     transforms.ColorJitter(10,10, 10),\n",
    "#     transforms.RandomRotation(90),\n",
    "    transforms.ToTensor(),\n",
    "    \n",
    "    ])(train_ds[i][0])\n",
    "a2 = (F.softmax(model(t.unsqueeze(0).to(device))))\n",
    "\n",
    "a3 = (F.softmax(model(((train_ds[i+1][0])).to(device).unsqueeze(0))))\n",
    "\n",
    "\n",
    "print(torch.norm(a1-a2, p = 2))\n",
    "print(torch.norm(a1-a3, p = 2))\n",
    "print(torch.norm(a2-a3, p = 2))\n",
    "model.toggleIntermediate()"
   ]
  }
 ],
 "metadata": {
  "accelerator": "GPU",
  "colab": {
   "name": "bert-vision.ipynb",
   "provenance": [],
   "toc_visible": true
  },
  "kernelspec": {
   "display_name": "guy-python",
   "language": "python",
   "name": "guy-python"
  },
  "language_info": {
   "codemirror_mode": {
    "name": "ipython",
    "version": 3
   },
   "file_extension": ".py",
   "mimetype": "text/x-python",
   "name": "python",
   "nbconvert_exporter": "python",
   "pygments_lexer": "ipython3",
   "version": "3.8.3"
  },
  "toc": {
   "base_numbering": 1,
   "nav_menu": {},
   "number_sections": true,
   "sideBar": true,
   "skip_h1_title": false,
   "title_cell": "Table of Contents",
   "title_sidebar": "Contents",
   "toc_cell": false,
   "toc_position": {},
   "toc_section_display": true,
   "toc_window_display": false
  }
 },
 "nbformat": 4,
 "nbformat_minor": 0
}
