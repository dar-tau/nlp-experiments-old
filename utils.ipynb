{
 "cells": [
  {
   "cell_type": "code",
   "execution_count": 8,
   "metadata": {
    "collapsed": false
   },
   "outputs": [
    {
     "ename": "NameError",
     "evalue": "name 'Dataset' is not defined",
     "output_type": "error",
     "traceback": [
      "\u001b[0;31m---------------------------------------------------------------------------\u001b[0m",
      "\u001b[0;31mNameError\u001b[0m                                 Traceback (most recent call last)",
      "\u001b[0;32m<ipython-input-8-72cfbc71428b>\u001b[0m in \u001b[0;36m<module>\u001b[0;34m\u001b[0m\n\u001b[0;32m----> 1\u001b[0;31m \u001b[0;32mclass\u001b[0m \u001b[0mTextDataset\u001b[0m\u001b[0;34m(\u001b[0m\u001b[0mDataset\u001b[0m\u001b[0;34m)\u001b[0m\u001b[0;34m:\u001b[0m\u001b[0;34m\u001b[0m\u001b[0;34m\u001b[0m\u001b[0m\n\u001b[0m\u001b[1;32m      2\u001b[0m     def __init__(self, ds, split, tokenizer, inputCol, targetCol, tokenizeTarget = False,\n\u001b[1;32m      3\u001b[0m                  \u001b[0mtransformTarget\u001b[0m \u001b[0;34m=\u001b[0m \u001b[0;32mNone\u001b[0m\u001b[0;34m,\u001b[0m\u001b[0;34m\u001b[0m\u001b[0;34m\u001b[0m\u001b[0m\n\u001b[1;32m      4\u001b[0m                 device = device):\n\u001b[1;32m      5\u001b[0m         \u001b[0mself\u001b[0m\u001b[0;34m.\u001b[0m\u001b[0mds\u001b[0m \u001b[0;34m=\u001b[0m \u001b[0mds\u001b[0m\u001b[0;34m\u001b[0m\u001b[0;34m\u001b[0m\u001b[0m\n",
      "\u001b[0;31mNameError\u001b[0m: name 'Dataset' is not defined"
     ]
    }
   ],
   "source": [
    "class TextDataset(Dataset):\n",
    "    def __init__(self, ds, split, tokenizer, inputCol, targetCol, tokenizeTarget = False,\n",
    "                 transformTarget = None,\n",
    "                device = device):\n",
    "        self.ds = ds\n",
    "        if type(ds) == str:\n",
    "            self.ds = load_dataset(ds, cache_dir = cache_dir)\n",
    "            self.ds = self.ds[split]\n",
    "        \n",
    "        def _transformTextSample(sample):\n",
    "            inputs = tokenizer(sample[inputCol], return_tensors = 'pt').to(device)\n",
    "            target = sample[targetCol]\n",
    "            if tokenizeTarget:\n",
    "                target = tokenizer(target, return_tensors = 'pt').to(device)\n",
    "            if transformTarget is not None:\n",
    "                target = transformTarget(target)\n",
    "            return inputs, target\n",
    "            \n",
    "        self.transform = _transformTextSample \n",
    "        \n",
    "        \n",
    "    def __getitem__(self, i):\n",
    "        item = self.transform(self.ds[i])\n",
    "        return item\n",
    "    \n",
    "    def __len__(self):\n",
    "        return len(self.ds)"
   ]
  },
  {
   "cell_type": "code",
   "execution_count": 4,
   "metadata": {
    "collapsed": true
   },
   "outputs": [],
   "source": [
    "if False:\n",
    "    def _oldTransformTextSample(sample_):\n",
    "        sample = sample_\n",
    "        if renameCols is not None:\n",
    "            sample = {}\n",
    "\n",
    "            for key in sample_.keys():\n",
    "                if key in renameCols:\n",
    "                    sample[renameCols[key]] = sample_[key]\n",
    "                else:\n",
    "                    sample[key] = sample_[key]\n",
    "\n",
    "        for key in tokenizeCols:\n",
    "            sample[key] = tokenize(sample[key])\n",
    "        return ({k: sample[k] for k in inputCols if k in sample.keys()}, sample[targetCol])\n"
   ]
  },
  {
   "cell_type": "code",
   "execution_count": null,
   "metadata": {
    "collapsed": true
   },
   "outputs": [],
   "source": []
  }
 ],
 "metadata": {
  "kernelspec": {
   "display_name": "guy-python",
   "language": "python",
   "name": "guy-python"
  },
  "language_info": {
   "codemirror_mode": {
    "name": "ipython",
    "version": 3
   },
   "file_extension": ".py",
   "mimetype": "text/x-python",
   "name": "python",
   "nbconvert_exporter": "python",
   "pygments_lexer": "ipython3",
   "version": "3.8.3"
  },
  "toc": {
   "base_numbering": 1,
   "nav_menu": {},
   "number_sections": true,
   "sideBar": true,
   "skip_h1_title": false,
   "title_cell": "Table of Contents",
   "title_sidebar": "Contents",
   "toc_cell": false,
   "toc_position": {},
   "toc_section_display": true,
   "toc_window_display": false
  }
 },
 "nbformat": 4,
 "nbformat_minor": 2
}
