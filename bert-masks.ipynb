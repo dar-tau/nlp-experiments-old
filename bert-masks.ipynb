{
 "cells": [
  {
   "cell_type": "markdown",
   "metadata": {},
   "source": [
    "## Initialization"
   ]
  },
  {
   "cell_type": "code",
   "execution_count": 7,
   "metadata": {
    "collapsed": true
   },
   "outputs": [],
   "source": [
    "storageName = 'university'\n",
    "\n",
    "if storageName == 'paperspace': \n",
    "    guy_folder = \"/notebooks/\"\n",
    "elif storageName == 'colab':\n",
    "    guy_folder = \"/content/\"\n",
    "elif storageName == 'university':\n",
    "    guy_folder = '/vol/scratch/guy/'\n",
    "    \n",
    "    \n",
    "cache_dir = guy_folder+\"/cache/transformer_cache\""
   ]
  },
  {
   "cell_type": "markdown",
   "metadata": {},
   "source": [
    "## Imports"
   ]
  },
  {
   "cell_type": "code",
   "execution_count": 1,
   "metadata": {
    "collapsed": true
   },
   "outputs": [],
   "source": [
    "import numpy as np\n",
    "import pandas as pd\n",
    "import matplotlib.pyplot as plt\n",
    "import torch\n",
    "from torch import nn\n",
    "import torch.nn.functional as F\n",
    "import transformers\n",
    "from transformers import AutoModel, AutoTokenizer\n",
    "from transformers import AdamW\n",
    "%matplotlib inline"
   ]
  },
  {
   "cell_type": "markdown",
   "metadata": {},
   "source": [
    "## Functions"
   ]
  },
  {
   "cell_type": "code",
   "execution_count": 76,
   "metadata": {
    "collapsed": true
   },
   "outputs": [],
   "source": [
    "def _introduceBinLinear(m_):\n",
    "    children = m_.named_children()\n",
    "    for name, m in children:\n",
    "        if name in ['k_lin', 'q_lin', 'v_lin', 'out_lin', 'lin1', 'lin2']:\n",
    "            m_.__setattr__(name, BinLinear(m.weight, m.bias))"
   ]
  },
  {
   "cell_type": "code",
   "execution_count": 79,
   "metadata": {
    "collapsed": false
   },
   "outputs": [],
   "source": [
    "class Binarizer(torch.autograd.Function):\n",
    "\n",
    "    @staticmethod\n",
    "    def forward(ctx, input):\n",
    "        threshold = Binarizer.threshold\n",
    "        output = (input > threshold).float()        \n",
    "        \n",
    "        return output\n",
    "\n",
    "    @staticmethod\n",
    "    def backward(ctx, grad_output):\n",
    "        return grad_output\n",
    "\n",
    "    @staticmethod\n",
    "    def setThreshold(threshold):\n",
    "        Binarizer.threshold = threshold\n",
    "    \n",
    "\n",
    "    \n",
    "Binarizer.setThreshold(0.5)\n",
    "\n",
    "\n",
    "class BinLinear(nn.Module):\n",
    "    def __init__(self, originalWeight, originalBias, initialSparsity = .7):\n",
    "        # Notice positivity of the mask is not warranated\n",
    "        super().__init__()\n",
    "        shape = originalWeight.shape\n",
    "        self.originalWeight = originalWeight\n",
    "        self.originalBias = originalBias\n",
    "\n",
    "        self.rawMask = nn.Parameter(torch.rand(*shape) * self._sparsityMask(initialSparsity, shape))\n",
    "    \n",
    "    def forward(self, x):\n",
    "        w = self.originalWeight * Binarizer.apply(self.rawMask)\n",
    "        output = x @ (w.t()) \n",
    "        if self.originalBias is not None:\n",
    "            output += self.originalBias\n",
    "        return output\n",
    "    \n",
    "    def _sparsityMask(self, initialSparsity, shape):\n",
    "        return (torch.rand(*shape) > initialSparsity).float()\n",
    "    \n",
    "    def extra_repr(self):\n",
    "        rep = '{}, {}'.format(*self.rawMask.t().shape)\n",
    "        if self.originalBias is not None:\n",
    "            rep += ', bias = True'\n",
    "        return rep"
   ]
  },
  {
   "cell_type": "markdown",
   "metadata": {},
   "source": [
    "## Main"
   ]
  },
  {
   "cell_type": "code",
   "execution_count": 103,
   "metadata": {
    "collapsed": true
   },
   "outputs": [],
   "source": [
    "nn.Linear??"
   ]
  },
  {
   "cell_type": "code",
   "execution_count": 108,
   "metadata": {
    "collapsed": false
   },
   "outputs": [],
   "source": [
    "class BinBert(nn.Module):\n",
    "    def __init__(self, n_classes = None):\n",
    "        super().__init__()\n",
    "        self.body = AutoModel.from_pretrained(\"distilbert-base-cased\", cache_dir = cache_dir)\n",
    "        self.body.requires_grad_(False)\n",
    "        self.body.apply(_introduceBinLinear);\n",
    "        if n_classes is not None:\n",
    "            shape = (768, n_classes)\n",
    "            self.pooler = BinLinear(nn.Parameter(torch.rand(*shape).t()),\n",
    "                                    nn.Parameter(torch.rand(shape[1])))\n",
    "    def forward(self, x):\n",
    "        output, = self.body(x)\n",
    "        if hasattr(self, 'pooler'):\n",
    "            output = self.pooler(output)\n",
    "        return output"
   ]
  },
  {
   "cell_type": "code",
   "execution_count": 110,
   "metadata": {
    "collapsed": false
   },
   "outputs": [
    {
     "name": "stdout",
     "output_type": "stream",
     "text": [
      " aer banknote berlitz calloway centrust cluett fromstein gitano guterman hydro-quebec ipo kia memotec mlx nahb punts rake regatta rubens sim snack-food ssangyong swapo wachter \r\n",
      " pierre <unk> N years old will join the board as a nonexecutive director nov. N \r\n",
      " mr. <unk> is chairman of <unk> n.v. the dutch publishing group \r\n",
      " rudolph <unk> N years old and former chairman of consolidated gold fields plc was named a nonexecutive director of this british industrial conglomerate \r\n",
      " a form of asbestos once used to make kent cigarette filters has caused a high percentage of cancer deaths among a group of workers exposed to it more than N years ago researchers reported \r\n",
      " the asbestos fiber <unk> is unusually <unk> once it enters the <unk> with even brief exposures to it causing symptoms that show up decades later researchers said \r\n",
      " <unk> inc. the unit of new york-based <unk> corp. that makes kent cigarettes stopped using <unk> in its <unk> cigarette filters in N \r\n",
      " although preliminary findings were reported more than a year ago the latest results appear in today 's new england journal of medicine a forum likely to bring new attention to the problem \r\n",
      " a <unk> <unk> said this is an old story \r\n",
      " we 're talking about years ago before anyone heard of asbestos having any questionable properties \r\n"
     ]
    }
   ],
   "source": []
  },
  {
   "cell_type": "code",
   "execution_count": 105,
   "metadata": {
    "collapsed": false
   },
   "outputs": [],
   "source": [
    "n_classes = \n",
    "binBert = BinBert(n_classes)"
   ]
  },
  {
   "cell_type": "code",
   "execution_count": 106,
   "metadata": {
    "collapsed": false
   },
   "outputs": [
    {
     "data": {
      "text/plain": [
       "tensor([[[ 0.8820,  1.0757, -0.1496,  ...,  1.1517,  1.2714,  0.8045],\n",
       "         [-1.4825,  2.0222,  1.0192,  ...,  0.7261, -1.6243, -1.2302],\n",
       "         [-1.4870,  1.8818,  0.7808,  ...,  0.0284, -1.1162,  1.3303],\n",
       "         ...,\n",
       "         [-1.4008,  0.7714,  0.2485,  ...,  1.3958, -0.4883,  1.6845],\n",
       "         [-0.5316,  1.3735,  1.2314,  ...,  2.1108,  0.7832,  2.8921],\n",
       "         [-2.3742,  0.2228,  1.4076,  ...,  3.0544,  0.2483,  1.4370]]],\n",
       "       grad_fn=<AddBackward0>)"
      ]
     },
     "execution_count": 106,
     "metadata": {},
     "output_type": "execute_result"
    }
   ],
   "source": [
    "binBert(torch.zeros(1, 512).long())"
   ]
  },
  {
   "cell_type": "code",
   "execution_count": null,
   "metadata": {
    "collapsed": true
   },
   "outputs": [],
   "source": []
  }
 ],
 "metadata": {
  "kernelspec": {
   "display_name": "guy-python",
   "language": "python",
   "name": "guy-python"
  },
  "language_info": {
   "codemirror_mode": {
    "name": "ipython",
    "version": 3
   },
   "file_extension": ".py",
   "mimetype": "text/x-python",
   "name": "python",
   "nbconvert_exporter": "python",
   "pygments_lexer": "ipython3",
   "version": "3.8.3"
  },
  "toc": {
   "base_numbering": 1,
   "nav_menu": {},
   "number_sections": true,
   "sideBar": true,
   "skip_h1_title": false,
   "title_cell": "Table of Contents",
   "title_sidebar": "Contents",
   "toc_cell": false,
   "toc_position": {},
   "toc_section_display": true,
   "toc_window_display": true
  }
 },
 "nbformat": 4,
 "nbformat_minor": 2
}
