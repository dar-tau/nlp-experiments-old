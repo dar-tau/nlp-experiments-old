{
 "cells": [
  {
   "cell_type": "markdown",
   "metadata": {},
   "source": [
    "## Initialization"
   ]
  },
  {
   "cell_type": "code",
   "execution_count": 9,
   "metadata": {
    "collapsed": true
   },
   "outputs": [],
   "source": [
    "storageName = 'university'\n",
    "\n",
    "if storageName == 'paperspace': \n",
    "    guy_folder = \"/notebooks/\"\n",
    "elif storageName == 'colab':\n",
    "    guy_folder = \"/content/\"\n",
    "elif storageName == 'university':\n",
    "    guy_folder = '/vol/scratch/guy/'\n",
    "    \n",
    "    \n",
    "cache_dir = guy_folder+\"/cache/transformer_cache\""
   ]
  },
  {
   "cell_type": "code",
   "execution_count": null,
   "metadata": {
    "collapsed": false
   },
   "outputs": [],
   "source": [
    "%pip install --no-cache-dir datasets"
   ]
  },
  {
   "cell_type": "markdown",
   "metadata": {},
   "source": [
    "## Imports"
   ]
  },
  {
   "cell_type": "code",
   "execution_count": 18,
   "metadata": {
    "collapsed": false
   },
   "outputs": [],
   "source": [
    "import numpy as np\n",
    "import pandas as pd\n",
    "import matplotlib.pyplot as plt\n",
    "import torch\n",
    "from torch import nn\n",
    "import torch.nn.functional as F\n",
    "from torch.utils.data import Dataset, DataLoader\n",
    "import transformers\n",
    "from transformers import AutoModel, AutoTokenizer\n",
    "from transformers import AdamW\n",
    "from datasets import load_dataset\n",
    "from functools import partial\n",
    "from tqdm import tqdm\n",
    "%matplotlib inline"
   ]
  },
  {
   "cell_type": "code",
   "execution_count": 19,
   "metadata": {
    "collapsed": true
   },
   "outputs": [],
   "source": [
    "%run ./utils.ipynb"
   ]
  },
  {
   "cell_type": "markdown",
   "metadata": {},
   "source": [
    "## Functions"
   ]
  },
  {
   "cell_type": "code",
   "execution_count": 22,
   "metadata": {
    "collapsed": true
   },
   "outputs": [],
   "source": [
    "modelName = \"distilbert-base-cased\"\n",
    "\n",
    "def _introduceBinLinear(m_, with_fc):\n",
    "    children = m_.named_children()\n",
    "    lin_names = ['k_lin', 'q_lin', 'v_lin', 'out_lin']\n",
    "    if with_fc:\n",
    "         lin_names += ['lin1', 'lin2']\n",
    "    for name, m in children:\n",
    "        if name in lin_names:\n",
    "            m_.__setattr__(name, BinLinear(m.weight, m.bias))"
   ]
  },
  {
   "cell_type": "code",
   "execution_count": 23,
   "metadata": {
    "collapsed": false
   },
   "outputs": [],
   "source": [
    "class Binarizer(torch.autograd.Function):\n",
    "\n",
    "    @staticmethod\n",
    "    def forward(ctx, input, threshold):\n",
    "        output = (input > threshold).float()        \n",
    "        return output\n",
    "\n",
    "    @staticmethod\n",
    "    def backward(ctx, grad_output):\n",
    "        return grad_output, None\n",
    "\n",
    "\n",
    "class BinLinear(nn.Module):\n",
    "    threshold = .5\n",
    "    def __init__(self, originalWeight, originalBias, initialSparsity = .7, threshold = None):\n",
    "        # Notice positivity of the mask is not warranated\n",
    "        super().__init__()\n",
    "        shape = originalWeight.shape\n",
    "        self.threshold = threshold\n",
    "        self.originalWeight = originalWeight\n",
    "        self.originalBias = originalBias\n",
    "\n",
    "        self.rawMask = nn.Parameter(torch.rand(*shape) * self._sparsityMask(initialSparsity, shape))\n",
    "    \n",
    "    def forward(self, x):\n",
    "        w = self.originalWeight * Binarizer.apply(self.rawMask, self.getThreshold())\n",
    "        output = x @ (w.t()) \n",
    "        if self.originalBias is not None:\n",
    "            output += self.originalBias\n",
    "        return output\n",
    "    \n",
    "    def _sparsityMask(self, initialSparsity, shape):\n",
    "        return (torch.rand(*shape) > initialSparsity).float()\n",
    "    \n",
    "    def extra_repr(self):\n",
    "        rep = '{}, {}'.format(*self.rawMask.t().shape)\n",
    "        if self.originalBias is not None:\n",
    "            rep += ', bias = True'\n",
    "        return rep\n",
    "    \n",
    "    def getThreshold(self):\n",
    "        if self.threshold is None:\n",
    "            return BinLinear.threshold\n",
    "        else:\n",
    "            return self.threshold\n",
    "    \n",
    "\n",
    "class BinBert(nn.Module):\n",
    "    def __init__(self, n_classes = None, \n",
    "                 with_fc = True, pool = False):\n",
    "        super().__init__()\n",
    "        assert((not pool) or (n_classes is not None))\n",
    "        self.pool = pool\n",
    "        self.body = AutoModel.from_pretrained(modelName, cache_dir = cache_dir)\n",
    "        self.body.requires_grad_(False)\n",
    "        self.body.apply(partial(_introduceBinLinear, with_fc = with_fc));\n",
    "        if n_classes is not None:\n",
    "            shape = (768, n_classes)\n",
    "            self.label_fc = BinLinear(nn.Parameter(torch.rand(*shape).t()),\n",
    "                                    nn.Parameter(torch.rand(shape[1])))\n",
    "    def forward(self, x):\n",
    "        output, = self.body(x)\n",
    "        if hasattr(self, 'label_fc'):\n",
    "            output = self.label_fc(output)\n",
    "            if self.pool: \n",
    "                output = output[:, 0]\n",
    "        return output\n",
    "\n",
    "    def setMaskTrainability(self, requires_grad):\n",
    "        def _changeMaskTrainability(m):\n",
    "            if isinstance(m, BinLinear):\n",
    "                m.rawMask.requires_grad_(requires_grad)\n",
    "        self.apply(_changeMaskTrainability)\n",
    "        \n",
    "    def iterMasks(self):\n",
    "        return map(lambda x: x[1], filter(lambda x: x[0].endswith('.rawMask'), self.named_parameters()))\n",
    "    \n",
    "    def _randomizeSimpleMask(self, mask, sparsity):\n",
    "        with torch.no_grad():\n",
    "            mask.uniform_()\n",
    "            mask.set_((mask > sparsity).float())\n",
    "        \n",
    "    def randomizeSimpleMasks(self, sparsity):\n",
    "        for mask in self.iterMasks():\n",
    "            self._randomizeSimpleMask(mask, sparsity)\n",
    "    \n",
    "    \n",
    "    def getLinear(self, i,  linName):\n",
    "        assert((type(i) == int) and (linName in ['k_lin', 'q_lin', 'v_lin', 'out_lin', 'lin1', 'lin2']))\n",
    "        if linName in ['lin1', 'lin2']:\n",
    "            linName = 'ffn.' + linName\n",
    "        else:\n",
    "            linName = 'attention.' + linName\n",
    "        linName = \".\" + str(i) + \".\" + linName\n",
    "        return next(map(lambda x: x[1], \n",
    "                        filter(lambda x: (x[0].endswith(linName)), self.named_modules())\n",
    "                       ))\n",
    "    \n",
    "    \n",
    "    "
   ]
  },
  {
   "cell_type": "markdown",
   "metadata": {},
   "source": [
    "## Main"
   ]
  },
  {
   "cell_type": "code",
   "execution_count": 24,
   "metadata": {
    "collapsed": false
   },
   "outputs": [
    {
     "data": {
      "application/vnd.jupyter.widget-view+json": {
       "model_id": "898671c87d8a4bdebca7ae086b9b8a05",
       "version_major": 2,
       "version_minor": 0
      },
      "text/plain": [
       "HBox(children=(FloatProgress(value=0.0, description='Downloading', max=213450.0, style=ProgressStyle(descripti…"
      ]
     },
     "metadata": {},
     "output_type": "display_data"
    },
    {
     "name": "stdout",
     "output_type": "stream",
     "text": [
      "\n"
     ]
    }
   ],
   "source": [
    "n_classes = 2\n",
    "tokenizer = AutoTokenizer.from_pretrained(modelName, cache_dir = cache_dir)\n",
    "binBert = BinBert(n_classes, pool = True, with_fc = False)"
   ]
  },
  {
   "cell_type": "code",
   "execution_count": 25,
   "metadata": {
    "collapsed": false
   },
   "outputs": [],
   "source": [
    "binBert.randomizeSimpleMasks(0.8)"
   ]
  },
  {
   "cell_type": "code",
   "execution_count": 15,
   "metadata": {
    "collapsed": false
   },
   "outputs": [
    {
     "ename": "TypeError",
     "evalue": "__init__() missing 3 required positional arguments: 'ds', 'tokenizer', and 'targetCol'",
     "output_type": "error",
     "traceback": [
      "\u001b[0;31m---------------------------------------------------------------------------\u001b[0m",
      "\u001b[0;31mTypeError\u001b[0m                                 Traceback (most recent call last)",
      "\u001b[0;32m<ipython-input-15-f189f95e0f57>\u001b[0m in \u001b[0;36m<module>\u001b[0;34m\u001b[0m\n\u001b[1;32m      1\u001b[0m \u001b[0mbatch_size\u001b[0m \u001b[0;34m=\u001b[0m \u001b[0;36m1\u001b[0m\u001b[0;34m\u001b[0m\u001b[0;34m\u001b[0m\u001b[0m\n\u001b[0;32m----> 2\u001b[0;31m \u001b[0mtrain_ds\u001b[0m \u001b[0;34m=\u001b[0m \u001b[0mTextDataset\u001b[0m\u001b[0;34m(\u001b[0m\u001b[0;34m)\u001b[0m\u001b[0;34m\u001b[0m\u001b[0;34m\u001b[0m\u001b[0m\n\u001b[0m\u001b[1;32m      3\u001b[0m train_dataloader = DataLoader(train_ds, batch_size = batch_size, \n\u001b[1;32m      4\u001b[0m                               shuffle = True)\n\u001b[1;32m      5\u001b[0m \u001b[0;34m\u001b[0m\u001b[0m\n",
      "\u001b[0;31mTypeError\u001b[0m: __init__() missing 3 required positional arguments: 'ds', 'tokenizer', and 'targetCol'"
     ]
    }
   ],
   "source": [
    "batch_size = 1\n",
    "train_ds = TextDataset('imdb', \n",
    "                       tokenizer = tokenizer, inputCol = 'text', targetCol = 'label')\n",
    "train_dataloader = DataLoader(train_ds, batch_size = batch_size, \n",
    "                              shuffle = True)\n",
    "\n",
    "criterion = nn.CrossEntropyLoss()\n",
    "optimizer = AdamW(binBert.parameters(), lr = 1e-5)\n",
    "for epoch in range(10):\n",
    "    running_loss = 0\n",
    "    pbar = tqdm(train_dataloader, position = 0, leave = True)\n",
    "    for i, (x, y) in enumerate(pbar):\n",
    "        yhat = model(**inputs)\n",
    "        loss = criterion(yhat, y)\n",
    "        running_loss += loss.item() / batch_size\n",
    "        running_acc += (yhat.argmax(-1) == y).sum().item() / batch_size\n",
    "        pbar.set_postfix_str(\"Loss: {} Acc: {}\".format(running_loss / (1+i), \n",
    "                                                       running_acc / (i + 1)\n",
    "                                                      ))\n",
    "        loss.backward()\n",
    "        optimizer.step()"
   ]
  },
  {
   "cell_type": "code",
   "execution_count": null,
   "metadata": {
    "collapsed": true
   },
   "outputs": [],
   "source": []
  },
  {
   "cell_type": "markdown",
   "metadata": {},
   "source": [
    "## Help"
   ]
  },
  {
   "cell_type": "code",
   "execution_count": 8,
   "metadata": {
    "collapsed": false
   },
   "outputs": [
    {
     "data": {
      "text/plain": [
       "20"
      ]
     },
     "execution_count": 8,
     "metadata": {},
     "output_type": "execute_result"
    }
   ],
   "source": [
    "import gc\n",
    "gc.collect()"
   ]
  },
  {
   "cell_type": "code",
   "execution_count": 26,
   "metadata": {
    "collapsed": false
   },
   "outputs": [
    {
     "name": "stdout",
     "output_type": "stream",
     "text": [
      "label_fc.originalWeight: torch.Size([2, 768])\n",
      "label_fc.originalBias: torch.Size([2])\n"
     ]
    }
   ],
   "source": [
    "[print(\"{}: {}\".format(k, v.shape)) for k,v in binBert.named_parameters() if v.requires_grad];"
   ]
  },
  {
   "cell_type": "code",
   "execution_count": null,
   "metadata": {
    "collapsed": true
   },
   "outputs": [],
   "source": []
  }
 ],
 "metadata": {
  "kernelspec": {
   "display_name": "guy-python",
   "language": "python",
   "name": "guy-python"
  },
  "language_info": {
   "codemirror_mode": {
    "name": "ipython",
    "version": 3
   },
   "file_extension": ".py",
   "mimetype": "text/x-python",
   "name": "python",
   "nbconvert_exporter": "python",
   "pygments_lexer": "ipython3",
   "version": "3.8.3"
  },
  "toc": {
   "base_numbering": 1,
   "nav_menu": {},
   "number_sections": true,
   "sideBar": true,
   "skip_h1_title": false,
   "title_cell": "Table of Contents",
   "title_sidebar": "Contents",
   "toc_cell": false,
   "toc_position": {},
   "toc_section_display": true,
   "toc_window_display": true
  }
 },
 "nbformat": 4,
 "nbformat_minor": 2
}
