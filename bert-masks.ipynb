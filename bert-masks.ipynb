{
 "cells": [
  {
   "cell_type": "code",
   "execution_count": 7,
   "metadata": {
    "collapsed": true
   },
   "outputs": [],
   "source": [
    "storageName = 'university'\n",
    "\n",
    "if storageName == 'paperspace': \n",
    "    guy_folder = \"/notebooks/\"\n",
    "elif storageName == 'colab':\n",
    "    guy_folder = \"/content/\"\n",
    "elif storageName == 'university':\n",
    "    guy_folder = '/vol/scratch/guy/'\n",
    "    \n",
    "    \n",
    "cache_dir = guy_folder+\"/cache/transformer_cache\""
   ]
  },
  {
   "cell_type": "code",
   "execution_count": 1,
   "metadata": {
    "collapsed": true
   },
   "outputs": [],
   "source": [
    "import numpy as np\n",
    "import pandas as pd\n",
    "import matplotlib.pyplot as plt\n",
    "import torch\n",
    "from torch import nn\n",
    "import torch.nn.functional as F\n",
    "import transformers\n",
    "from transformers import AutoModel, AutoTokenizer\n",
    "from transformers import AdamW\n",
    "%matplotlib inline"
   ]
  },
  {
   "cell_type": "code",
   "execution_count": 63,
   "metadata": {
    "collapsed": false
   },
   "outputs": [],
   "source": [
    "def _introduceBinLinear(m_):\n",
    "    children = m_.named_children()\n",
    "    for name, m in children:\n",
    "        if name in ['k_lin', 'q_lin', 'v_lin']:\n",
    "            m_.__setattr__(name, BinLinear(m.weight, m.bias))\n",
    "\n",
    "\n",
    "\n",
    "\n",
    "class Binarizer(torch.autograd.Function):\n",
    "\n",
    "    @staticmethod\n",
    "    def forward(ctx, input):\n",
    "        threshold = Binarizer.threshold\n",
    "        output = (input > threshold).float()        \n",
    "        \n",
    "        return output\n",
    "\n",
    "    @staticmethod\n",
    "    def backward(ctx, grad_output):\n",
    "        return grad_output\n",
    "\n",
    "    @staticmethod\n",
    "    def setThreshold(threshold):\n",
    "        Binarizer.threshold = threshold\n",
    "    \n",
    "\n",
    "    \n",
    "Binarizer.setThreshold(0.5)\n",
    "\n",
    "\n",
    "\n",
    "class BinLinear(nn.Module):\n",
    "    def __init__(self, originalWeight, originalBias, initialSparsity = .7):\n",
    "        super().__init__()\n",
    "        shape = originalWeight.shape\n",
    "        self.originalWeight = originalWeight\n",
    "        self.originalBias = originalBias\n",
    "\n",
    "        self.rawMask = nn.Parameter(torch.rand(*shape) * self._sparsityMask(initialSparsity, shape))\n",
    "    \n",
    "    def forward(self, x):\n",
    "        w = self.originalWeight * Binarizer.apply(self.rawMask)\n",
    "        output = x @ (w.t()) \n",
    "        if self.originalBias is not None:\n",
    "            output += self.originalBias\n",
    "        return output\n",
    "    \n",
    "    def _sparsityMask(self, initialSparsity, shape):\n",
    "        return (torch.rand(*shape) > initialSparsity).float()\n",
    "    \n",
    "    def extra_repr(self):\n",
    "        rep = '{},{}'.format(*self.rawMask.shape)\n",
    "        if self.originalBias is not None:\n",
    "            rep += ', bias = True'\n",
    "        return rep\n"
   ]
  },
  {
   "cell_type": "code",
   "execution_count": 64,
   "metadata": {
    "collapsed": false
   },
   "outputs": [],
   "source": [
    "bert = AutoModel.from_pretrained(\"distilbert-base-cased\", cache_dir = cache_dir)"
   ]
  },
  {
   "cell_type": "code",
   "execution_count": 65,
   "metadata": {
    "collapsed": false
   },
   "outputs": [],
   "source": [
    "bert.requires_grad_(False)\n",
    "bert.apply(_introduceBinLinear);"
   ]
  },
  {
   "cell_type": "code",
   "execution_count": null,
   "metadata": {
    "collapsed": true
   },
   "outputs": [],
   "source": []
  }
 ],
 "metadata": {
  "kernelspec": {
   "display_name": "guy-python",
   "language": "python",
   "name": "guy-python"
  },
  "language_info": {
   "codemirror_mode": {
    "name": "ipython",
    "version": 3
   },
   "file_extension": ".py",
   "mimetype": "text/x-python",
   "name": "python",
   "nbconvert_exporter": "python",
   "pygments_lexer": "ipython3",
   "version": "3.8.3"
  },
  "toc": {
   "base_numbering": 1,
   "nav_menu": {},
   "number_sections": true,
   "sideBar": true,
   "skip_h1_title": false,
   "title_cell": "Table of Contents",
   "title_sidebar": "Contents",
   "toc_cell": false,
   "toc_position": {},
   "toc_section_display": true,
   "toc_window_display": false
  }
 },
 "nbformat": 4,
 "nbformat_minor": 2
}
