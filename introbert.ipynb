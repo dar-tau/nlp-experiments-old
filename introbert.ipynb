{
  "nbformat": 4,
  "nbformat_minor": 0,
  "metadata": {
    "colab": {
      "name": "introbert.ipynb",
      "provenance": [],
      "collapsed_sections": [],
      "authorship_tag": "ABX9TyNHc+5dFF7N64brBPCbXx1s",
      "include_colab_link": true
    },
    "kernelspec": {
      "name": "python3",
      "display_name": "Python 3"
    },
    "widgets": {
      "application/vnd.jupyter.widget-state+json": {
        "4945935299184b889430cdf19862090d": {
          "model_module": "@jupyter-widgets/controls",
          "model_name": "HBoxModel",
          "state": {
            "_view_name": "HBoxView",
            "_dom_classes": [],
            "_model_name": "HBoxModel",
            "_view_module": "@jupyter-widgets/controls",
            "_model_module_version": "1.5.0",
            "_view_count": null,
            "_view_module_version": "1.5.0",
            "box_style": "",
            "layout": "IPY_MODEL_2a545db42c504ddeb71fa394ce54dd53",
            "_model_module": "@jupyter-widgets/controls",
            "children": [
              "IPY_MODEL_8a119ecce7894ca8a6f559565ca2071c",
              "IPY_MODEL_285feac07c9647308828fc7834f9cecf"
            ]
          }
        },
        "2a545db42c504ddeb71fa394ce54dd53": {
          "model_module": "@jupyter-widgets/base",
          "model_name": "LayoutModel",
          "state": {
            "_view_name": "LayoutView",
            "grid_template_rows": null,
            "right": null,
            "justify_content": null,
            "_view_module": "@jupyter-widgets/base",
            "overflow": null,
            "_model_module_version": "1.2.0",
            "_view_count": null,
            "flex_flow": null,
            "width": null,
            "min_width": null,
            "border": null,
            "align_items": null,
            "bottom": null,
            "_model_module": "@jupyter-widgets/base",
            "top": null,
            "grid_column": null,
            "overflow_y": null,
            "overflow_x": null,
            "grid_auto_flow": null,
            "grid_area": null,
            "grid_template_columns": null,
            "flex": null,
            "_model_name": "LayoutModel",
            "justify_items": null,
            "grid_row": null,
            "max_height": null,
            "align_content": null,
            "visibility": null,
            "align_self": null,
            "height": null,
            "min_height": null,
            "padding": null,
            "grid_auto_rows": null,
            "grid_gap": null,
            "max_width": null,
            "order": null,
            "_view_module_version": "1.2.0",
            "grid_template_areas": null,
            "object_position": null,
            "object_fit": null,
            "grid_auto_columns": null,
            "margin": null,
            "display": null,
            "left": null
          }
        },
        "8a119ecce7894ca8a6f559565ca2071c": {
          "model_module": "@jupyter-widgets/controls",
          "model_name": "FloatProgressModel",
          "state": {
            "_view_name": "ProgressView",
            "style": "IPY_MODEL_ea60734bf7b24c0bbf83ab818ac834fb",
            "_dom_classes": [],
            "description": "  0%",
            "_model_name": "FloatProgressModel",
            "bar_style": "",
            "max": 25000,
            "_view_module": "@jupyter-widgets/controls",
            "_model_module_version": "1.5.0",
            "value": 52,
            "_view_count": null,
            "_view_module_version": "1.5.0",
            "orientation": "horizontal",
            "min": 0,
            "description_tooltip": null,
            "_model_module": "@jupyter-widgets/controls",
            "layout": "IPY_MODEL_2533bd1fb4c645afacbde5f829be81fc"
          }
        },
        "285feac07c9647308828fc7834f9cecf": {
          "model_module": "@jupyter-widgets/controls",
          "model_name": "HTMLModel",
          "state": {
            "_view_name": "HTMLView",
            "style": "IPY_MODEL_42d17684b8804783854c2b143bc35bd5",
            "_dom_classes": [],
            "description": "",
            "_model_name": "HTMLModel",
            "placeholder": "​",
            "_view_module": "@jupyter-widgets/controls",
            "_model_module_version": "1.5.0",
            "value": " 51/25000 [00:35&lt;6:17:09,  1.10it/s]",
            "_view_count": null,
            "_view_module_version": "1.5.0",
            "description_tooltip": null,
            "_model_module": "@jupyter-widgets/controls",
            "layout": "IPY_MODEL_a639ce25adda40578aac97ffe9a7b048"
          }
        },
        "ea60734bf7b24c0bbf83ab818ac834fb": {
          "model_module": "@jupyter-widgets/controls",
          "model_name": "ProgressStyleModel",
          "state": {
            "_view_name": "StyleView",
            "_model_name": "ProgressStyleModel",
            "description_width": "initial",
            "_view_module": "@jupyter-widgets/base",
            "_model_module_version": "1.5.0",
            "_view_count": null,
            "_view_module_version": "1.2.0",
            "bar_color": null,
            "_model_module": "@jupyter-widgets/controls"
          }
        },
        "2533bd1fb4c645afacbde5f829be81fc": {
          "model_module": "@jupyter-widgets/base",
          "model_name": "LayoutModel",
          "state": {
            "_view_name": "LayoutView",
            "grid_template_rows": null,
            "right": null,
            "justify_content": null,
            "_view_module": "@jupyter-widgets/base",
            "overflow": null,
            "_model_module_version": "1.2.0",
            "_view_count": null,
            "flex_flow": null,
            "width": null,
            "min_width": null,
            "border": null,
            "align_items": null,
            "bottom": null,
            "_model_module": "@jupyter-widgets/base",
            "top": null,
            "grid_column": null,
            "overflow_y": null,
            "overflow_x": null,
            "grid_auto_flow": null,
            "grid_area": null,
            "grid_template_columns": null,
            "flex": null,
            "_model_name": "LayoutModel",
            "justify_items": null,
            "grid_row": null,
            "max_height": null,
            "align_content": null,
            "visibility": null,
            "align_self": null,
            "height": null,
            "min_height": null,
            "padding": null,
            "grid_auto_rows": null,
            "grid_gap": null,
            "max_width": null,
            "order": null,
            "_view_module_version": "1.2.0",
            "grid_template_areas": null,
            "object_position": null,
            "object_fit": null,
            "grid_auto_columns": null,
            "margin": null,
            "display": null,
            "left": null
          }
        },
        "42d17684b8804783854c2b143bc35bd5": {
          "model_module": "@jupyter-widgets/controls",
          "model_name": "DescriptionStyleModel",
          "state": {
            "_view_name": "StyleView",
            "_model_name": "DescriptionStyleModel",
            "description_width": "",
            "_view_module": "@jupyter-widgets/base",
            "_model_module_version": "1.5.0",
            "_view_count": null,
            "_view_module_version": "1.2.0",
            "_model_module": "@jupyter-widgets/controls"
          }
        },
        "a639ce25adda40578aac97ffe9a7b048": {
          "model_module": "@jupyter-widgets/base",
          "model_name": "LayoutModel",
          "state": {
            "_view_name": "LayoutView",
            "grid_template_rows": null,
            "right": null,
            "justify_content": null,
            "_view_module": "@jupyter-widgets/base",
            "overflow": null,
            "_model_module_version": "1.2.0",
            "_view_count": null,
            "flex_flow": null,
            "width": null,
            "min_width": null,
            "border": null,
            "align_items": null,
            "bottom": null,
            "_model_module": "@jupyter-widgets/base",
            "top": null,
            "grid_column": null,
            "overflow_y": null,
            "overflow_x": null,
            "grid_auto_flow": null,
            "grid_area": null,
            "grid_template_columns": null,
            "flex": null,
            "_model_name": "LayoutModel",
            "justify_items": null,
            "grid_row": null,
            "max_height": null,
            "align_content": null,
            "visibility": null,
            "align_self": null,
            "height": null,
            "min_height": null,
            "padding": null,
            "grid_auto_rows": null,
            "grid_gap": null,
            "max_width": null,
            "order": null,
            "_view_module_version": "1.2.0",
            "grid_template_areas": null,
            "object_position": null,
            "object_fit": null,
            "grid_auto_columns": null,
            "margin": null,
            "display": null,
            "left": null
          }
        }
      }
    }
  },
  "cells": [
    {
      "cell_type": "markdown",
      "metadata": {
        "id": "view-in-github",
        "colab_type": "text"
      },
      "source": [
        "<a href=\"https://colab.research.google.com/github/dar-tau/nlp-experiments/blob/master/introbert.ipynb\" target=\"_parent\"><img src=\"https://colab.research.google.com/assets/colab-badge.svg\" alt=\"Open In Colab\"/></a>"
      ]
    },
    {
      "cell_type": "markdown",
      "metadata": {
        "id": "x9lKLc_FDgfW",
        "colab_type": "text"
      },
      "source": [
        "## Initialization"
      ]
    },
    {
      "cell_type": "code",
      "metadata": {
        "id": "ZqceyW70h1eK",
        "colab_type": "code",
        "colab": {}
      },
      "source": [
        "!pip install transformers datasets\n",
        "# !pip install simpletransformers"
      ],
      "execution_count": null,
      "outputs": []
    },
    {
      "cell_type": "code",
      "metadata": {
        "id": "KVNwlAAYhj_5",
        "colab_type": "code",
        "colab": {}
      },
      "source": [
        "import re\n",
        "import torch\n",
        "from torch.utils.data import Dataset, DataLoader\n",
        "import datasets\n",
        "import pandas as pd\n",
        "import numpy as np\n",
        "from tqdm import tqdm_notebook as tqdm\n",
        "import json\n",
        "import os\n",
        "from transformers import AutoModelForQuestionAnswering, AutoTokenizer\n",
        "from transformers import pipeline"
      ],
      "execution_count": 353,
      "outputs": []
    },
    {
      "cell_type": "code",
      "metadata": {
        "id": "pE2GOSq--Ml1",
        "colab_type": "code",
        "colab": {}
      },
      "source": [
        "def setModelHooks(model):\n",
        "  attentionLayerRegex = r'^(.+\\.)*layer\\.(\\d+)\\.attention$'\n",
        "  def _guyAttentionHook(name):\n",
        "    layerNum = int(re.match(attentionLayerRegex, name).group(2))\n",
        "    # Assumes there's only one attention per number\n",
        "    def _myHook(m, inp, outp):\n",
        "      assert((type(outp) == tuple) and (len(outp) == 1) )\n",
        "      model.guyData[layerNum] = outp[0].argmax(dim = -1)\n",
        "\n",
        "    return _myHook\n",
        "\n",
        "\n",
        "  if hasattr(model, 'guyHooks'):\n",
        "    print(\"Removing existing hooks!\")\n",
        "    [hook.remove() for hook in model.guyHooks]\n",
        "  \n",
        "  model.guyData = {}\n",
        "  model.guyHooks = [module.register_forward_hook(_guyAttentionHook(name)) for name, module in model.named_modules()\n",
        "                                                                          if re.match(attentionLayerRegex, name) is not None]\n"
      ],
      "execution_count": 381,
      "outputs": []
    },
    {
      "cell_type": "code",
      "metadata": {
        "id": "vl0yRM_pG1r8",
        "colab_type": "code",
        "colab": {}
      },
      "source": [
        "class IntrobertDataset(Dataset):\n",
        "  def __init__(self, srcDataset, func):\n",
        "    self.ds = srcDataset\n",
        "    self.func = func\n",
        "\n",
        "  def __getitem__(self, i):\n",
        "    context = self.func(self.ds[i])\n",
        "    return {'context': context}\n",
        "\n",
        "  def __len__(self):\n",
        "    return len(self.ds)"
      ],
      "execution_count": 373,
      "outputs": []
    },
    {
      "cell_type": "markdown",
      "metadata": {
        "id": "FlQ_81GJfR1A",
        "colab_type": "text"
      },
      "source": [
        "## Main"
      ]
    },
    {
      "cell_type": "code",
      "metadata": {
        "id": "0okVrbpMfRiV",
        "colab_type": "code",
        "colab": {}
      },
      "source": [
        "tokenizer = AutoTokenizer.from_pretrained(\"distilbert-base-cased-distilled-squad\")\n",
        "model = AutoModelForQuestionAnswering.from_pretrained(\"distilbert-base-cased-distilled-squad\", return_dict = True)\n",
        "optimizer = AdamW(model.parameters(), lr = 5e-5)\n",
        "setModelHooks(model)"
      ],
      "execution_count": 382,
      "outputs": []
    },
    {
      "cell_type": "code",
      "metadata": {
        "id": "TDzjJpmhRPBu",
        "colab_type": "code",
        "colab": {
          "base_uri": "https://localhost:8080/",
          "height": 254
        },
        "outputId": "55a6c975-ac04-44b7-d969-e6f670c10063"
      },
      "source": [
        "imdb = datasets.load_dataset(\"imdb\")\n",
        "dataset = IntrobertDataset(imdb['train'], lambda x: x['text'])\n",
        "# dataloader = DataLoader(dataset, batch_size = 8, shuffle = True)"
      ],
      "execution_count": 384,
      "outputs": [
        {
          "output_type": "stream",
          "text": [
            "Checking /root/.cache/huggingface/datasets/4d2b2997408b65402b80ecde9f2710be3b9edec2632497552299709859efe061.c39acffee84b8d7965ae2e5269ad438ebdb9a40b0607f38a5fdd81b1f8607864.py for additional imports.\n",
            "Found main folder for dataset https://raw.githubusercontent.com/huggingface/datasets/1.0.1/datasets/imdb/imdb.py at /root/.cache/huggingface/modules/datasets_modules/datasets/imdb\n",
            "Found specific version folder for dataset https://raw.githubusercontent.com/huggingface/datasets/1.0.1/datasets/imdb/imdb.py at /root/.cache/huggingface/modules/datasets_modules/datasets/imdb/90099cb476936b753383ba2ae6ab2eae419b2e87f71cd5189cb9c8e5814d12a3\n",
            "Found script file from https://raw.githubusercontent.com/huggingface/datasets/1.0.1/datasets/imdb/imdb.py to /root/.cache/huggingface/modules/datasets_modules/datasets/imdb/90099cb476936b753383ba2ae6ab2eae419b2e87f71cd5189cb9c8e5814d12a3/imdb.py\n",
            "Found dataset infos file from https://raw.githubusercontent.com/huggingface/datasets/1.0.1/datasets/imdb/dataset_infos.json to /root/.cache/huggingface/modules/datasets_modules/datasets/imdb/90099cb476936b753383ba2ae6ab2eae419b2e87f71cd5189cb9c8e5814d12a3/dataset_infos.json\n",
            "Found metadata file for dataset https://raw.githubusercontent.com/huggingface/datasets/1.0.1/datasets/imdb/imdb.py at /root/.cache/huggingface/modules/datasets_modules/datasets/imdb/90099cb476936b753383ba2ae6ab2eae419b2e87f71cd5189cb9c8e5814d12a3/imdb.json\n",
            "No config specified, defaulting to first: imdb/plain_text\n",
            "Loading Dataset Infos from /root/.cache/huggingface/modules/datasets_modules/datasets/imdb/90099cb476936b753383ba2ae6ab2eae419b2e87f71cd5189cb9c8e5814d12a3\n",
            "Overwrite dataset info from restored data version.\n",
            "Loading Dataset info from /root/.cache/huggingface/datasets/imdb/plain_text/1.0.0/90099cb476936b753383ba2ae6ab2eae419b2e87f71cd5189cb9c8e5814d12a3\n",
            "Reusing dataset imdb (/root/.cache/huggingface/datasets/imdb/plain_text/1.0.0/90099cb476936b753383ba2ae6ab2eae419b2e87f71cd5189cb9c8e5814d12a3)\n",
            "Constructing Dataset for split train, test, unsupervised, from /root/.cache/huggingface/datasets/imdb/plain_text/1.0.0/90099cb476936b753383ba2ae6ab2eae419b2e87f71cd5189cb9c8e5814d12a3\n",
            "100%|██████████| 3/3 [00:00<00:00, 230.77it/s]\n"
          ],
          "name": "stderr"
        }
      ]
    },
    {
      "cell_type": "code",
      "metadata": {
        "id": "3Ogcu9qi8FWE",
        "colab_type": "code",
        "colab": {
          "base_uri": "https://localhost:8080/",
          "height": 99,
          "referenced_widgets": [
            "4945935299184b889430cdf19862090d",
            "2a545db42c504ddeb71fa394ce54dd53",
            "8a119ecce7894ca8a6f559565ca2071c",
            "285feac07c9647308828fc7834f9cecf",
            "ea60734bf7b24c0bbf83ab818ac834fb",
            "2533bd1fb4c645afacbde5f829be81fc",
            "42d17684b8804783854c2b143bc35bd5",
            "a639ce25adda40578aac97ffe9a7b048"
          ]
        },
        "outputId": "27c9853b-194b-4185-95f8-be08bc5a0ad6"
      },
      "source": [
        "model.train()\n",
        "for e in range(10):\n",
        "  for data in tqdm(dataset):\n",
        "    model.zero_grad()\n",
        "    context = data['context']\n",
        "    inputs = tokenizer(context, truncation = True,\n",
        "                       padding = True, return_tensors = 'pt')\n",
        "    outputs = model(**inputs)\n",
        "    \n",
        "    # loss.backward()\n",
        "    # optimizer.step()\n"
      ],
      "execution_count": null,
      "outputs": [
        {
          "output_type": "stream",
          "text": [
            "/usr/local/lib/python3.6/dist-packages/ipykernel_launcher.py:3: TqdmDeprecationWarning: This function will be removed in tqdm==5.0.0\n",
            "Please use `tqdm.notebook.tqdm` instead of `tqdm.tqdm_notebook`\n",
            "  This is separate from the ipykernel package so we can avoid doing imports until\n"
          ],
          "name": "stderr"
        },
        {
          "output_type": "display_data",
          "data": {
            "application/vnd.jupyter.widget-view+json": {
              "model_id": "4945935299184b889430cdf19862090d",
              "version_minor": 0,
              "version_major": 2
            },
            "text/plain": [
              "HBox(children=(FloatProgress(value=0.0, max=25000.0), HTML(value='')))"
            ]
          },
          "metadata": {
            "tags": []
          }
        }
      ]
    }
  ]
}