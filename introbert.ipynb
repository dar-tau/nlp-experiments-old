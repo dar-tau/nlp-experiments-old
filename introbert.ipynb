{
  "nbformat": 4,
  "nbformat_minor": 0,
  "metadata": {
    "colab": {
      "name": "introbert.ipynb",
      "provenance": [],
      "collapsed_sections": [],
      "authorship_tag": "ABX9TyMVDLBbWQvTJv2ucie2zHoX",
      "include_colab_link": true
    },
    "kernelspec": {
      "name": "python3",
      "display_name": "Python 3"
    }
  },
  "cells": [
    {
      "cell_type": "markdown",
      "metadata": {
        "id": "view-in-github",
        "colab_type": "text"
      },
      "source": [
        "<a href=\"https://colab.research.google.com/github/dar-tau/nlp-experiments/blob/master/introbert.ipynb\" target=\"_parent\"><img src=\"https://colab.research.google.com/assets/colab-badge.svg\" alt=\"Open In Colab\"/></a>"
      ]
    },
    {
      "cell_type": "markdown",
      "metadata": {
        "id": "x9lKLc_FDgfW",
        "colab_type": "text"
      },
      "source": [
        "## Initialization"
      ]
    },
    {
      "cell_type": "code",
      "metadata": {
        "id": "ZqceyW70h1eK",
        "colab_type": "code",
        "colab": {}
      },
      "source": [
        "!pip install transformers datasets\n",
        "# !pip install simpletransformers"
      ],
      "execution_count": null,
      "outputs": []
    },
    {
      "cell_type": "code",
      "metadata": {
        "id": "-sQR1uUYkI04",
        "colab_type": "code",
        "colab": {}
      },
      "source": [
        "from transformers import BertTokenizerFast, BertForQuestionAnswering\n",
        "import torch\n",
        "import datasets\n",
        "import pandas as pd\n",
        "import numpy as np\n",
        "from tqdm import tqdm_notebook as tqdm\n",
        "from transformers import AdamW\n",
        "from transformers import get_linear_schedule_with_warmup"
      ],
      "execution_count": 16,
      "outputs": []
    },
    {
      "cell_type": "markdown",
      "metadata": {
        "id": "qmlOl7CDDclp",
        "colab_type": "text"
      },
      "source": [
        "## Functions"
      ]
    },
    {
      "cell_type": "code",
      "metadata": {
        "id": "dYlqbSzKDa6t",
        "colab_type": "code",
        "colab": {}
      },
      "source": [
        "def preprocess_data(data):\n",
        "  answers = tokenizer(pd.DataFrame(data['answers'])['text'].apply(lambda x: x[0]).values.tolist())\n",
        "  inputs = tokenizer(data['question'], data['context'])\n",
        "  return inputs, answers"
      ],
      "execution_count": null,
      "outputs": []
    },
    {
      "cell_type": "code",
      "metadata": {
        "id": "qzLKVd9k-_49",
        "colab_type": "code",
        "colab": {}
      },
      "source": [
        "tokenizer = BertTokenizerFast.from_pretrained('bert-base-uncased', padding = True, truncate = True)\n",
        "model = BertForQuestionAnswering.from_pretrained('bert-base-uncased', return_dict=True)\n",
        "squad = datasets.load_dataset(\"squad\")\n",
        "optimizer = AdamW(model.parameters(), lr=5e-5)\n",
        "# scheduler = get_linear_schedule_with_warmup(optimizer, num_warmup_steps, num_train_steps)\n",
        "model.train();"
      ],
      "execution_count": null,
      "outputs": []
    },
    {
      "cell_type": "markdown",
      "metadata": {
        "id": "iC9lsXzeJYrN",
        "colab_type": "text"
      },
      "source": [
        "## Main"
      ]
    },
    {
      "cell_type": "code",
      "metadata": {
        "id": "1hOK4w-sDWgQ",
        "colab_type": "code",
        "colab": {}
      },
      "source": [
        "inputs, answers = preprocess_data(squad['train'])"
      ],
      "execution_count": null,
      "outputs": []
    },
    {
      "cell_type": "code",
      "metadata": {
        "id": "frJ8bPsCxTbJ",
        "colab_type": "code",
        "colab": {}
      },
      "source": [
        "nSamples = len(inputs)\n",
        "for e in range(10):\n",
        "    for i in tqdm(range(nSamples)):\n",
        "      model(inputs[i].ids, label = answers[i].ids)"
      ],
      "execution_count": null,
      "outputs": []
    },
    {
      "cell_type": "code",
      "metadata": {
        "id": "ruAOiK6WDQS9",
        "colab_type": "code",
        "colab": {}
      },
      "source": [
        ""
      ],
      "execution_count": null,
      "outputs": []
    }
  ]
}