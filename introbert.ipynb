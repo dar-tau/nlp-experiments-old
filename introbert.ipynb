{
  "nbformat": 4,
  "nbformat_minor": 0,
  "metadata": {
    "colab": {
      "name": "introbert.ipynb",
      "provenance": [],
      "collapsed_sections": [],
      "toc_visible": true,
      "authorship_tag": "ABX9TyMEwphN12wa09tAylRaArCp",
      "include_colab_link": true
    },
    "kernelspec": {
      "name": "python3",
      "display_name": "Python 3"
    },
    "accelerator": "GPU"
  },
  "cells": [
    {
      "cell_type": "markdown",
      "metadata": {
        "id": "view-in-github",
        "colab_type": "text"
      },
      "source": [
        "<a href=\"https://colab.research.google.com/github/dar-tau/nlp-experiments/blob/master/introbert.ipynb\" target=\"_parent\"><img src=\"https://colab.research.google.com/assets/colab-badge.svg\" alt=\"Open In Colab\"/></a>"
      ]
    },
    {
      "cell_type": "markdown",
      "metadata": {
        "id": "x9lKLc_FDgfW",
        "colab_type": "text"
      },
      "source": [
        "## Initialization"
      ]
    },
    {
      "cell_type": "code",
      "metadata": {
        "id": "ZqceyW70h1eK",
        "colab_type": "code",
        "colab": {}
      },
      "source": [
        "!pip install transformers datasets\n",
        "# !pip install simpletransformers"
      ],
      "execution_count": null,
      "outputs": []
    },
    {
      "cell_type": "code",
      "metadata": {
        "id": "Q_82TRLIFBe6",
        "colab_type": "code",
        "colab": {}
      },
      "source": [
        "%cd /content\n",
        "!mkdir data\n",
        "%cd /content/data\n",
        "!wget https://rajpurkar.github.io/SQuAD-explorer/dataset/train-v2.0.json"
      ],
      "execution_count": null,
      "outputs": []
    },
    {
      "cell_type": "code",
      "metadata": {
        "id": "KVNwlAAYhj_5",
        "colab_type": "code",
        "colab": {}
      },
      "source": [
        "import matplotlib.pyplot as plt\n",
        "import pandas as pd\n",
        "import numpy as np\n",
        "from tqdm import tqdm_notebook as tqdm\n",
        "import json\n",
        "import os\n",
        "\n",
        "import re\n",
        "import torch\n",
        "import torch.nn.functional as F\n",
        "from torch.utils.data import Dataset, DataLoader\n",
        "\n",
        "\n",
        "import datasets\n",
        "from transformers import AutoModelForQuestionAnswering, AutoTokenizer, AutoModelForTokenClassification\n",
        "from transformers import pipeline\n",
        "from transformers import AdamW\n",
        "from transformers import get_linear_schedule_with_warmup\n",
        "from transformers.data.processors.squad import SquadV2Processor, squad_convert_examples_to_features\n",
        "\n",
        "import spacy\n"
      ],
      "execution_count": 2,
      "outputs": []
    },
    {
      "cell_type": "code",
      "metadata": {
        "id": "pE2GOSq--Ml1",
        "colab_type": "code",
        "colab": {}
      },
      "source": [
        "device = 'cuda'\n",
        "\n",
        "def torchTokenize(*args):\n",
        "  return tokenizer(*args, truncation = True,\n",
        "                       padding = True, return_tensors = 'pt')\n",
        "\n",
        "def squad_to_introbert(squad_zipped_example_and_features):\n",
        "  squad_example, squad_features = squad_zipped_example_and_features\n",
        "  res = {'start_position': squad_features.start_position, \n",
        "         'end_position': squad_features.end_position}\n",
        "  res.update({'context': squad_example.context_text,\n",
        "              'question': squad_example.question_text})\n",
        "  # res.update({k: torch.Tensor(as_dict[k], device = device) for k in ['input_ids', 'attention_mask','token_type_ids'] })\n",
        "  return res\n",
        "\n",
        "def dictToDevice(d, device):\n",
        "  d_ = {}\n",
        "  for k, v in d.items():\n",
        "    if isinstance(v, torch.Tensor):\n",
        "      d_[k] = v.to(device)\n",
        "    else:\n",
        "      d_[k] = v\n",
        "  return d_\n",
        "\n",
        "\n",
        "def minimalTrain(model, flag):\n",
        "  model.requires_grad_(not flag)\n",
        "  model.get_input_embeddings().requires_grad_(True)\n",
        "  model.qa_outputs.requires_grad_(True)  "
      ],
      "execution_count": 15,
      "outputs": []
    },
    {
      "cell_type": "code",
      "metadata": {
        "id": "Lnw1CDGwhQKw",
        "colab_type": "code",
        "colab": {}
      },
      "source": [
        "pos_tokenizer = AutoTokenizer.from_pretrained(\"vblagoje/bert-english-uncased-finetuned-pos\")\n",
        "pos_model = AutoModelForTokenClassification.from_pretrained(\"vblagoje/bert-english-uncased-finetuned-pos\")\n",
        "pos_model.to(device)\n",
        "id2label =  {\n",
        "    \"0\": \"ADJ\",\n",
        "    \"1\": \"ADP\",\n",
        "    \"2\": \"ADV\",\n",
        "    \"3\": \"AUX\",\n",
        "    \"4\": \"CCONJ\",\n",
        "    \"5\": \"DET\",\n",
        "    \"6\": \"INTJ\",\n",
        "    \"7\": \"NOUN\",\n",
        "    \"8\": \"NUM\",\n",
        "    \"9\": \"PART\",\n",
        "    \"10\": \"PRON\",\n",
        "    \"11\": \"PROPN\",\n",
        "    \"12\": \"PUNCT\",\n",
        "    \"13\": \"SCONJ\",\n",
        "    \"14\": \"SYM\",\n",
        "    \"15\": \"VERB\",\n",
        "    \"16\": \"X\"\n",
        "  }"
      ],
      "execution_count": 16,
      "outputs": []
    },
    {
      "cell_type": "code",
      "metadata": {
        "id": "vl0yRM_pG1r8",
        "colab_type": "code",
        "colab": {}
      },
      "source": [
        "class IntrobertDataset(Dataset):\n",
        "  def __init__(self, srcDataset, func, device = device):\n",
        "    self.ds = srcDataset\n",
        "    self.func = func\n",
        "    self.device = device\n",
        "    self.isModelSet = False\n",
        "\n",
        "  def setModel(self, model, nLayers, nHeads):\n",
        "    self.model = model\n",
        "    self.nLayers = nLayers\n",
        "    self.nHeads = nHeads\n",
        "    self.isModelSet = True \n",
        "\n",
        "  def __getitem__(self, i):\n",
        "    assert(self.isModelSet)\n",
        "    data = self.func(self.ds[i])\n",
        "    context = data['context']\n",
        "    start_position = None\n",
        "    end_position = None\n",
        "    inputs = None\n",
        "    questionFunc = None\n",
        "    question_type = self.choose_question_type()\n",
        "    use_original = question_type == 0\n",
        "    if use_original: \n",
        "      start_position = data['start_position']\n",
        "      end_position = data['end_position']\n",
        "      question = data['question']\n",
        "    else:\n",
        "      if question_type == 1:\n",
        "          question, questionFunc = self.randomize_introspection(context)\n",
        "      else:\n",
        "          inputs = pos_tokenizer(context, return_tensors = 'pt', truncation = True)\n",
        "          inputs = dictToDevice(inputs, self.device)\n",
        "          all_tags = pos_model(**inputs)[0].argmax(-1).view(-1)\n",
        "          res = np.random.choice(len(all_tags))\n",
        "          question = \"find some token of type [{}] in the text\".format(id2label[str(all_tags[res].item())])\n",
        "          def questionFunc(model, attentions):\n",
        "            return (res, res)\n",
        "\n",
        "    inputs = torchTokenize(context, question)\n",
        "    inputs = dictToDevice(inputs, self.device)\n",
        "\n",
        "    return {'context': context, 'inputs': inputs, 'start_position' : start_position, 'end_position': end_position,\n",
        "            'question': question, 'func': questionFunc, 'use_original': use_original,\n",
        "             'question_type': question_type}\n",
        "\n",
        "\n",
        "  def randomize_introspection(self, context):\n",
        "\n",
        "    n_introspection_questions = 2\n",
        "    r = np.random.choice(n_introspection_questions)\n",
        "\n",
        "    chosenLayer = np.random.choice(self.nLayers)\n",
        "    chosenHead = np.random.choice(self.nHeads)    \n",
        "    if r == 0:\n",
        "      question = \"what is the most attended word in [att-{}-{}]?\".format(chosenLayer, chosenHead)\n",
        "      def questionFunc(model, attentions):\n",
        "        res = attentions[chosenLayer][:,chosenHead].sum(dim = -2)[:, 1:].argmax()\n",
        "        res += 1\n",
        "        return (res, res)\n",
        "    else:\n",
        "      context_tokens = tokenizer(context, truncation = True)['input_ids']\n",
        "      random_pos = np.random.choice(len(context_tokens))\n",
        "      random_word = tokenizer.convert_ids_to_tokens(context_tokens[random_pos])\n",
        "      question = \"which word is most attended in [att-{}-{}] by {}?\".format(chosenLayer, chosenHead,\n",
        "                                                                            random_word)\n",
        "      def questionFunc(model, attentions):\n",
        "        res = attentions[chosenLayer][:,chosenHead][:, random_pos][:, 1:].argmax()\n",
        "        res += 1\n",
        "        return (res, res)\n",
        "\n",
        "    return question, questionFunc\n",
        "\n",
        "\n",
        "\n",
        "  def choose_question_type(self):\n",
        "    return np.random.choice(3)\n",
        "\n",
        "  def __len__(self):\n",
        "    return len(self.ds)"
      ],
      "execution_count": 62,
      "outputs": []
    },
    {
      "cell_type": "markdown",
      "metadata": {
        "id": "FlQ_81GJfR1A",
        "colab_type": "text"
      },
      "source": [
        "## Main"
      ]
    },
    {
      "cell_type": "code",
      "metadata": {
        "id": "ZAfwAYlJzhtx",
        "colab_type": "code",
        "colab": {}
      },
      "source": [
        "tokenizer = AutoTokenizer.from_pretrained(\"distilbert-base-cased-distilled-squad\")\n",
        "tokenizer.add_tokens([\"[att-{}-{}]\".format(i,j) for i in range(6) for j in range(12)], special_tokens=True)\n",
        "tokenizer.add_tokens([\"[{}]\".format(x) for _, x in id2label.items()])\n",
        "\n",
        "model = AutoModelForQuestionAnswering.from_pretrained(\"distilbert-base-cased-distilled-squad\", output_attentions = True, \n",
        "                                                      return_dict = True)\n",
        "minimalTrain(model, False)\n",
        "model.resize_token_embeddings(len(tokenizer))\n",
        "model.to(device)\n",
        "optimizer = AdamW(model.parameters(), lr = 3e-6)\n"
      ],
      "execution_count": 55,
      "outputs": []
    },
    {
      "cell_type": "code",
      "metadata": {
        "id": "NceD8emvJi9-",
        "colab_type": "code",
        "colab": {}
      },
      "source": [
        "if 'dataset' not in globals():\n",
        "  max_seq_length = 384\n",
        "  doc_stride = 128\n",
        "  max_query_length = 64\n",
        "  total = 10000\n",
        "  squad_examples = SquadV2Processor().get_train_examples(\"/content/data\")[:total]\n",
        "  squad_features = squad_convert_examples_to_features(squad_examples, tokenizer = tokenizer, \n",
        "                                    max_seq_length = max_seq_length,\n",
        "                                    max_query_length = max_query_length,\n",
        "                                    doc_stride = doc_stride, is_training = True, return_dataset = None)\n",
        "\n",
        "dataset = IntrobertDataset(list(zip(squad_examples, squad_features)), squad_to_introbert)\n",
        "dataset.setModel(\"distilbert-base-cased-distilled-squad\", 6, 12)"
      ],
      "execution_count": 63,
      "outputs": []
    },
    {
      "cell_type": "code",
      "metadata": {
        "id": "3Ogcu9qi8FWE",
        "colab_type": "code",
        "colab": {}
      },
      "source": [
        "from collections import defaultdict\n",
        "start_positions = defaultdict(int)\n",
        "was_original = []\n",
        "\n",
        "n_epochs = 10\n",
        "num_training_steps = total * n_epochs \n",
        "num_warmup_steps = total \n",
        "losses = []\n",
        " \n",
        "scheduler = torch.optim.lr_scheduler.LambdaLR(optimizer, lambda x: x/num_training_steps)\n",
        "# get_linear_schedule_with_warmup(optimizer,num_warmup_steps, num_training_steps)\n",
        "# torch.optim.lr_scheduler.OneCycleLR(optimizer, 5e-5, total_steps = n_epochs * total,\n",
        "#                                                 epochs = n_epochs)\n",
        "\n",
        "\n",
        "from tqdm import tqdm as simple_tqdm\n",
        "model.train()\n",
        "\n",
        "for e in range(n_epochs):\n",
        "  losses.append([])\n",
        "  t = simple_tqdm(dataset, total = total, leave = True, position = 0)\n",
        "  acc_sum1 = 0\n",
        "  acc_sum2 = 0\n",
        "  i_ = 0\n",
        "  for i, data in enumerate(t):\n",
        "    if i >= total:\n",
        "      break    \n",
        "\n",
        "    inputs = data['inputs']\n",
        "    questionFunc = data['func']\n",
        "    use_original = data['use_original']\n",
        "    was_original.append(int(use_original))\n",
        "    if not use_original:\n",
        "      outputs = model(**inputs)\n",
        "    model.train()\n",
        "    model.zero_grad()\n",
        "    if use_original:\n",
        "      start_position = data['start_position']\n",
        "      end_position = data['end_position']\n",
        "    else:\n",
        "      start_position, end_position = questionFunc(model, outputs.attentions)\n",
        "      # start_positions[start_position.item()] += 1          \n",
        "    start_position = torch.Tensor([start_position]).to(device).detach().long()\n",
        "    end_position = torch.Tensor([end_position]).to(device).detach().long()\n",
        "\n",
        "    outputs = model(**inputs, start_positions = start_position,\n",
        "                    end_positions = end_position)\n",
        "    \n",
        "    loss = outputs.loss\n",
        "\n",
        "    losses[e].append(loss.item())\n",
        "\n",
        "    if data['question_type'] == 1:\n",
        "      acc_sum1 += int((start_position.item() == outputs.start_logits.argmax().item())) \n",
        "      acc_sum2 += int((end_position.item() == outputs.end_logits.argmax().item()))\n",
        "      i_ += 1\n",
        "      acc1 = acc_sum1/i_\n",
        "      acc2 = acc_sum2/i_\n",
        "\n",
        "    t.set_postfix_str(\"Loss: {:.2f}, Acc1: {:.2f}, Acc2: {:.2f}\".format(loss.item(), acc1, acc2))\n",
        "    loss.backward()\n",
        "    optimizer.step()\n",
        "    scheduler.step()"
      ],
      "execution_count": null,
      "outputs": []
    },
    {
      "cell_type": "code",
      "metadata": {
        "id": "kJ_t0726_HHF",
        "colab_type": "code",
        "colab": {}
      },
      "source": [
        "emb = model.get_input_embeddings().cpu()\n",
        "new_emb = emb(torch.LongTensor(list(tokenizer.get_added_vocab().values())))"
      ],
      "execution_count": 65,
      "outputs": []
    },
    {
      "cell_type": "code",
      "metadata": {
        "id": "9JGS3LkrGi_0",
        "colab_type": "code",
        "colab": {}
      },
      "source": [
        "from sklearn.manifold import TSNE\n",
        "tsne = TSNE(metric = 'cosine')\n",
        "xy_emb = tsne.fit_transform(new_emb.detach().numpy())"
      ],
      "execution_count": 66,
      "outputs": []
    },
    {
      "cell_type": "code",
      "metadata": {
        "id": "94FKAFw1Isyj",
        "colab_type": "code",
        "colab": {
          "base_uri": "https://localhost:8080/",
          "height": 281
        },
        "outputId": "c7ddd623-939f-4a3b-ae95-45aa22e17b34"
      },
      "source": [
        "plt.scatter(xy_emb[:,0], xy_emb[:,1], c = ([0]*72) + ([1]*17))"
      ],
      "execution_count": 67,
      "outputs": [
        {
          "output_type": "execute_result",
          "data": {
            "text/plain": [
              "<matplotlib.collections.PathCollection at 0x7f37842d4eb8>"
            ]
          },
          "metadata": {
            "tags": []
          },
          "execution_count": 67
        },
        {
          "output_type": "display_data",
          "data": {
            "image/png": "[encoded data removed]",
            "text/plain": [
              "<Figure size 432x288 with 1 Axes>"
            ]
          },
          "metadata": {
            "tags": [],
            "needs_background": "light"
          }
        }
      ]
    },
    {
      "cell_type": "code",
      "metadata": {
        "id": "Fw1df7AROVLD",
        "colab_type": "code",
        "colab": {}
      },
      "source": [
        ""
      ],
      "execution_count": null,
      "outputs": []
    }
  ]
}